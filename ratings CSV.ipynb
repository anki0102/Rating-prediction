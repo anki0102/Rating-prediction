{
 "cells": [
  {
   "cell_type": "markdown",
   "id": "3e04874b",
   "metadata": {},
   "source": [
    "# Scapping Data for 'Laptop' from Flipkart"
   ]
  },
  {
   "cell_type": "code",
   "execution_count": 3,
   "id": "f6a63a40",
   "metadata": {},
   "outputs": [],
   "source": [
    "import selenium\n",
    "from selenium import webdriver"
   ]
  },
  {
   "cell_type": "code",
   "execution_count": 9,
   "id": "cb1fd6bf",
   "metadata": {},
   "outputs": [],
   "source": [
    "#First we will connect to webdriver\n",
    "driver=webdriver.Chrome(r'/Users/ankit/chromedriver')"
   ]
  },
  {
   "cell_type": "code",
   "execution_count": 10,
   "id": "6696916a",
   "metadata": {},
   "outputs": [],
   "source": [
    "#Open the webpage with webdriver\n",
    "driver.get('https://www.flipkart.com/')"
   ]
  },
  {
   "cell_type": "code",
   "execution_count": 11,
   "id": "667626bf",
   "metadata": {},
   "outputs": [],
   "source": [
    "#Finding elements for search bar\n",
    "search1=driver.find_element_by_xpath(\"//input[@class='_3704LK']\")\n",
    "search1.send_keys('Laptop')"
   ]
  },
  {
   "cell_type": "code",
   "execution_count": 12,
   "id": "d4ff12bc",
   "metadata": {},
   "outputs": [],
   "source": [
    "click1=driver.find_element_by_xpath(\"//button[@class='L0Z3Pu']\").click()"
   ]
  },
  {
   "cell_type": "code",
   "execution_count": 13,
   "id": "86f15547",
   "metadata": {},
   "outputs": [],
   "source": [
    "URL=[]"
   ]
  },
  {
   "cell_type": "code",
   "execution_count": 14,
   "id": "8fc037e2",
   "metadata": {},
   "outputs": [],
   "source": [
    "for j in range(1,31):\n",
    "    driver.get('https://www.flipkart.com/search?q=Laptop&otracker=search&otracker1=search&marketplace=FLIPKART&as-show=on&as=off&as-pos=1&as-type=HISTORY&page='+str(j))\n",
    "    urls=driver.find_elements_by_xpath(\"//div[@class='_1AtVbE col-12-12']/div/div/div/a\")\n",
    "    for url in urls:\n",
    "        URL.append(url.get_attribute('href'))"
   ]
  },
  {
   "cell_type": "code",
   "execution_count": 15,
   "id": "70870029",
   "metadata": {},
   "outputs": [
    {
     "name": "stdout",
     "output_type": "stream",
     "text": [
      "697\n"
     ]
    }
   ],
   "source": [
    "print(len(URL))"
   ]
  },
  {
   "cell_type": "code",
   "execution_count": 16,
   "id": "88b95ecb",
   "metadata": {},
   "outputs": [],
   "source": [
    "\n",
    "URL2=[]"
   ]
  },
  {
   "cell_type": "code",
   "execution_count": 17,
   "id": "d5849bd1",
   "metadata": {},
   "outputs": [],
   "source": [
    "for url in URL:\n",
    "    driver.get(url)\n",
    "    rev_lk=driver.find_elements_by_xpath(\"//div[@class='col JOpGWq']/a\")\n",
    "    for url2 in rev_lk:\n",
    "        URL2.append(url2.get_attribute('href'))"
   ]
  },
  {
   "cell_type": "code",
   "execution_count": 18,
   "id": "9b0370c5",
   "metadata": {},
   "outputs": [
    {
     "name": "stdout",
     "output_type": "stream",
     "text": [
      "417\n"
     ]
    }
   ],
   "source": [
    "print(len(URL2))"
   ]
  },
  {
   "cell_type": "code",
   "execution_count": 19,
   "id": "4955b6ca",
   "metadata": {},
   "outputs": [],
   "source": [
    "RAT=[]\n",
    "REV=[]"
   ]
  },
  {
   "cell_type": "code",
   "execution_count": 20,
   "id": "c736cadf",
   "metadata": {},
   "outputs": [],
   "source": [
    "for url in URL2:\n",
    "    driver.get(url)\n",
    "    rat=driver.find_elements_by_xpath(\"//div[@class='col _2wzgFH K0kLPL']/div[1]/div\")\n",
    "    for i in rat:\n",
    "        RAT.append(i.text)\n",
    "    rev=driver.find_elements_by_xpath(\"//div[@class='_1AtVbE col-12-12']/div/div/div/div[2]/div/div/div\")\n",
    "    for j in rev:\n",
    "        REV.append(j.text)"
   ]
  },
  {
   "cell_type": "code",
   "execution_count": 21,
   "id": "e76e6611",
   "metadata": {},
   "outputs": [
    {
     "name": "stdout",
     "output_type": "stream",
     "text": [
      "3866 3866\n"
     ]
    }
   ],
   "source": [
    "\n",
    "print(len(RAT),len(REV))"
   ]
  },
  {
   "cell_type": "code",
   "execution_count": 22,
   "id": "50c5d347",
   "metadata": {},
   "outputs": [],
   "source": [
    "\n",
    "import pandas as pd"
   ]
  },
  {
   "cell_type": "code",
   "execution_count": 23,
   "id": "a5b77115",
   "metadata": {},
   "outputs": [],
   "source": [
    "df=pd.DataFrame()"
   ]
  },
  {
   "cell_type": "code",
   "execution_count": 24,
   "id": "00d418b3",
   "metadata": {},
   "outputs": [],
   "source": [
    "df['RATING']=RAT[:]\n",
    "df['REVIEWS']=REV[:]"
   ]
  },
  {
   "cell_type": "code",
   "execution_count": 25,
   "id": "803c089e",
   "metadata": {},
   "outputs": [
    {
     "data": {
      "text/html": [
       "<div>\n",
       "<style scoped>\n",
       "    .dataframe tbody tr th:only-of-type {\n",
       "        vertical-align: middle;\n",
       "    }\n",
       "\n",
       "    .dataframe tbody tr th {\n",
       "        vertical-align: top;\n",
       "    }\n",
       "\n",
       "    .dataframe thead th {\n",
       "        text-align: right;\n",
       "    }\n",
       "</style>\n",
       "<table border=\"1\" class=\"dataframe\">\n",
       "  <thead>\n",
       "    <tr style=\"text-align: right;\">\n",
       "      <th></th>\n",
       "      <th>RATING</th>\n",
       "      <th>REVIEWS</th>\n",
       "    </tr>\n",
       "  </thead>\n",
       "  <tbody>\n",
       "    <tr>\n",
       "      <th>0</th>\n",
       "      <td>5</td>\n",
       "      <td>Its an absolute beast if u know what are the n...</td>\n",
       "    </tr>\n",
       "    <tr>\n",
       "      <th>1</th>\n",
       "      <td>5</td>\n",
       "      <td>This is the best laptop in this range.I reciev...</td>\n",
       "    </tr>\n",
       "    <tr>\n",
       "      <th>2</th>\n",
       "      <td>5</td>\n",
       "      <td>Good product as used of now.... Everything is ...</td>\n",
       "    </tr>\n",
       "    <tr>\n",
       "      <th>3</th>\n",
       "      <td>5</td>\n",
       "      <td>AWESOME LAPTOP. It supports many high spec gam...</td>\n",
       "    </tr>\n",
       "    <tr>\n",
       "      <th>4</th>\n",
       "      <td>4</td>\n",
       "      <td>For that price... it's exceptionally good. Pla...</td>\n",
       "    </tr>\n",
       "    <tr>\n",
       "      <th>...</th>\n",
       "      <td>...</td>\n",
       "      <td>...</td>\n",
       "    </tr>\n",
       "    <tr>\n",
       "      <th>3861</th>\n",
       "      <td>5</td>\n",
       "      <td>Awsm👌</td>\n",
       "    </tr>\n",
       "    <tr>\n",
       "      <th>3862</th>\n",
       "      <td>4</td>\n",
       "      <td>Laptop was good but the display is bit wobble ...</td>\n",
       "    </tr>\n",
       "    <tr>\n",
       "      <th>3863</th>\n",
       "      <td>4</td>\n",
       "      <td>Speakers are not good else everything is good.</td>\n",
       "    </tr>\n",
       "    <tr>\n",
       "      <th>3864</th>\n",
       "      <td>5</td>\n",
       "      <td>Yes , go for it who ever wanted below 50k .\\nF...</td>\n",
       "    </tr>\n",
       "    <tr>\n",
       "      <th>3865</th>\n",
       "      <td>5</td>\n",
       "      <td>Best laptop at this price compare to other brand.</td>\n",
       "    </tr>\n",
       "  </tbody>\n",
       "</table>\n",
       "<p>3866 rows × 2 columns</p>\n",
       "</div>"
      ],
      "text/plain": [
       "     RATING                                            REVIEWS\n",
       "0         5  Its an absolute beast if u know what are the n...\n",
       "1         5  This is the best laptop in this range.I reciev...\n",
       "2         5  Good product as used of now.... Everything is ...\n",
       "3         5  AWESOME LAPTOP. It supports many high spec gam...\n",
       "4         4  For that price... it's exceptionally good. Pla...\n",
       "...     ...                                                ...\n",
       "3861      5                                              Awsm👌\n",
       "3862      4  Laptop was good but the display is bit wobble ...\n",
       "3863      4     Speakers are not good else everything is good.\n",
       "3864      5  Yes , go for it who ever wanted below 50k .\\nF...\n",
       "3865      5  Best laptop at this price compare to other brand.\n",
       "\n",
       "[3866 rows x 2 columns]"
      ]
     },
     "execution_count": 25,
     "metadata": {},
     "output_type": "execute_result"
    }
   ],
   "source": [
    "df"
   ]
  },
  {
   "cell_type": "code",
   "execution_count": 26,
   "id": "1708c763",
   "metadata": {},
   "outputs": [],
   "source": [
    "df=df.assign(PRODUCT='Laptop')"
   ]
  },
  {
   "cell_type": "code",
   "execution_count": 27,
   "id": "a1de2512",
   "metadata": {},
   "outputs": [
    {
     "data": {
      "text/html": [
       "<div>\n",
       "<style scoped>\n",
       "    .dataframe tbody tr th:only-of-type {\n",
       "        vertical-align: middle;\n",
       "    }\n",
       "\n",
       "    .dataframe tbody tr th {\n",
       "        vertical-align: top;\n",
       "    }\n",
       "\n",
       "    .dataframe thead th {\n",
       "        text-align: right;\n",
       "    }\n",
       "</style>\n",
       "<table border=\"1\" class=\"dataframe\">\n",
       "  <thead>\n",
       "    <tr style=\"text-align: right;\">\n",
       "      <th></th>\n",
       "      <th>RATING</th>\n",
       "      <th>REVIEWS</th>\n",
       "      <th>PRODUCT</th>\n",
       "    </tr>\n",
       "  </thead>\n",
       "  <tbody>\n",
       "    <tr>\n",
       "      <th>0</th>\n",
       "      <td>5</td>\n",
       "      <td>Its an absolute beast if u know what are the n...</td>\n",
       "      <td>Laptop</td>\n",
       "    </tr>\n",
       "    <tr>\n",
       "      <th>1</th>\n",
       "      <td>5</td>\n",
       "      <td>This is the best laptop in this range.I reciev...</td>\n",
       "      <td>Laptop</td>\n",
       "    </tr>\n",
       "    <tr>\n",
       "      <th>2</th>\n",
       "      <td>5</td>\n",
       "      <td>Good product as used of now.... Everything is ...</td>\n",
       "      <td>Laptop</td>\n",
       "    </tr>\n",
       "    <tr>\n",
       "      <th>3</th>\n",
       "      <td>5</td>\n",
       "      <td>AWESOME LAPTOP. It supports many high spec gam...</td>\n",
       "      <td>Laptop</td>\n",
       "    </tr>\n",
       "    <tr>\n",
       "      <th>4</th>\n",
       "      <td>4</td>\n",
       "      <td>For that price... it's exceptionally good. Pla...</td>\n",
       "      <td>Laptop</td>\n",
       "    </tr>\n",
       "    <tr>\n",
       "      <th>...</th>\n",
       "      <td>...</td>\n",
       "      <td>...</td>\n",
       "      <td>...</td>\n",
       "    </tr>\n",
       "    <tr>\n",
       "      <th>3861</th>\n",
       "      <td>5</td>\n",
       "      <td>Awsm👌</td>\n",
       "      <td>Laptop</td>\n",
       "    </tr>\n",
       "    <tr>\n",
       "      <th>3862</th>\n",
       "      <td>4</td>\n",
       "      <td>Laptop was good but the display is bit wobble ...</td>\n",
       "      <td>Laptop</td>\n",
       "    </tr>\n",
       "    <tr>\n",
       "      <th>3863</th>\n",
       "      <td>4</td>\n",
       "      <td>Speakers are not good else everything is good.</td>\n",
       "      <td>Laptop</td>\n",
       "    </tr>\n",
       "    <tr>\n",
       "      <th>3864</th>\n",
       "      <td>5</td>\n",
       "      <td>Yes , go for it who ever wanted below 50k .\\nF...</td>\n",
       "      <td>Laptop</td>\n",
       "    </tr>\n",
       "    <tr>\n",
       "      <th>3865</th>\n",
       "      <td>5</td>\n",
       "      <td>Best laptop at this price compare to other brand.</td>\n",
       "      <td>Laptop</td>\n",
       "    </tr>\n",
       "  </tbody>\n",
       "</table>\n",
       "<p>3866 rows × 3 columns</p>\n",
       "</div>"
      ],
      "text/plain": [
       "     RATING                                            REVIEWS PRODUCT\n",
       "0         5  Its an absolute beast if u know what are the n...  Laptop\n",
       "1         5  This is the best laptop in this range.I reciev...  Laptop\n",
       "2         5  Good product as used of now.... Everything is ...  Laptop\n",
       "3         5  AWESOME LAPTOP. It supports many high spec gam...  Laptop\n",
       "4         4  For that price... it's exceptionally good. Pla...  Laptop\n",
       "...     ...                                                ...     ...\n",
       "3861      5                                              Awsm👌  Laptop\n",
       "3862      4  Laptop was good but the display is bit wobble ...  Laptop\n",
       "3863      4     Speakers are not good else everything is good.  Laptop\n",
       "3864      5  Yes , go for it who ever wanted below 50k .\\nF...  Laptop\n",
       "3865      5  Best laptop at this price compare to other brand.  Laptop\n",
       "\n",
       "[3866 rows x 3 columns]"
      ]
     },
     "execution_count": 27,
     "metadata": {},
     "output_type": "execute_result"
    }
   ],
   "source": [
    "df"
   ]
  },
  {
   "cell_type": "code",
   "execution_count": 28,
   "id": "6f1d5558",
   "metadata": {},
   "outputs": [
    {
     "data": {
      "text/plain": [
       "5    2431\n",
       "4     983\n",
       "1     221\n",
       "3     155\n",
       "2      76\n",
       "Name: RATING, dtype: int64"
      ]
     },
     "execution_count": 28,
     "metadata": {},
     "output_type": "execute_result"
    }
   ],
   "source": [
    "df['RATING'].value_counts()"
   ]
  },
  {
   "cell_type": "code",
   "execution_count": 29,
   "id": "6cd15920",
   "metadata": {},
   "outputs": [],
   "source": [
    "dff=df[df.RATING=='5']"
   ]
  },
  {
   "cell_type": "code",
   "execution_count": 30,
   "id": "412f171c",
   "metadata": {},
   "outputs": [],
   "source": [
    "dff=dff.iloc[0:1200,:]"
   ]
  },
  {
   "cell_type": "code",
   "execution_count": 31,
   "id": "8a99da82",
   "metadata": {},
   "outputs": [],
   "source": [
    "\n",
    "df.drop(df.index[df['RATING']=='5'], inplace=True)"
   ]
  },
  {
   "cell_type": "code",
   "execution_count": 32,
   "id": "3f5967e4",
   "metadata": {},
   "outputs": [],
   "source": [
    "\n",
    "df=pd.concat([df,dff],axis=0)"
   ]
  },
  {
   "cell_type": "code",
   "execution_count": 33,
   "id": "5c16275f",
   "metadata": {},
   "outputs": [
    {
     "data": {
      "text/plain": [
       "(2635, 3)"
      ]
     },
     "execution_count": 33,
     "metadata": {},
     "output_type": "execute_result"
    }
   ],
   "source": [
    "df.shape"
   ]
  },
  {
   "cell_type": "code",
   "execution_count": 34,
   "id": "5f8820d9",
   "metadata": {},
   "outputs": [],
   "source": [
    "\n",
    "driver.close()"
   ]
  },
  {
   "cell_type": "markdown",
   "id": "a43949e4",
   "metadata": {},
   "source": [
    "# Scrapping Data for 'Phones' from flipkart"
   ]
  },
  {
   "cell_type": "code",
   "execution_count": 60,
   "id": "4c0dd8b9",
   "metadata": {},
   "outputs": [],
   "source": [
    "#First we will connect to webdriver\n",
    "driver=webdriver.Chrome(r'/Users/ankit/chromedriver')"
   ]
  },
  {
   "cell_type": "code",
   "execution_count": 61,
   "id": "12a402e3",
   "metadata": {},
   "outputs": [],
   "source": [
    "#Open the webpage with webdriver\n",
    "driver.get('https://www.flipkart.com/')"
   ]
  },
  {
   "cell_type": "code",
   "execution_count": 62,
   "id": "c9c48149",
   "metadata": {},
   "outputs": [],
   "source": [
    "#Finding elements for search bar\n",
    "search1=driver.find_element_by_xpath(\"//input[@class='_3704LK']\")\n",
    "search1.send_keys('Phones')"
   ]
  },
  {
   "cell_type": "code",
   "execution_count": 63,
   "id": "8b96222b",
   "metadata": {},
   "outputs": [],
   "source": [
    "click1=driver.find_element_by_xpath(\"//button[@class='L0Z3Pu']\").click()\n"
   ]
  },
  {
   "cell_type": "code",
   "execution_count": 64,
   "id": "e2736460",
   "metadata": {},
   "outputs": [],
   "source": [
    "URL=[]"
   ]
  },
  {
   "cell_type": "code",
   "execution_count": 65,
   "id": "07769ca5",
   "metadata": {},
   "outputs": [],
   "source": [
    "for j in range(1,31):\n",
    "    driver.get('https://www.flipkart.com/search?q=Phones&otracker=search&otracker1=search&marketplace=FLIPKART&as-show=on&as=off&page='+str(j))\n",
    "    urls=driver.find_elements_by_xpath(\"//div[@class='_1AtVbE col-12-12']/div/div/div/a\")\n",
    "    for url in urls:\n",
    "        URL.append(url.get_attribute('href'))"
   ]
  },
  {
   "cell_type": "code",
   "execution_count": 66,
   "id": "88376d96",
   "metadata": {},
   "outputs": [
    {
     "name": "stdout",
     "output_type": "stream",
     "text": [
      "672\n"
     ]
    }
   ],
   "source": [
    "print(len(URL))"
   ]
  },
  {
   "cell_type": "code",
   "execution_count": 67,
   "id": "8dd66ae0",
   "metadata": {},
   "outputs": [],
   "source": [
    "URL2=[]"
   ]
  },
  {
   "cell_type": "code",
   "execution_count": 68,
   "id": "250ceaba",
   "metadata": {},
   "outputs": [],
   "source": [
    "for url in URL:\n",
    "    driver.get(url)\n",
    "    rev_lk=driver.find_elements_by_xpath(\"//div[@class='col JOpGWq']/a\")\n",
    "    for url2 in rev_lk:\n",
    "        URL2.append(url2.get_attribute('href'))"
   ]
  },
  {
   "cell_type": "code",
   "execution_count": 69,
   "id": "a596d21b",
   "metadata": {},
   "outputs": [
    {
     "name": "stdout",
     "output_type": "stream",
     "text": [
      "603\n"
     ]
    }
   ],
   "source": [
    "print(len(URL2))"
   ]
  },
  {
   "cell_type": "code",
   "execution_count": 70,
   "id": "b9b05c4f",
   "metadata": {},
   "outputs": [],
   "source": [
    "RAT=[]\n",
    "REV=[]"
   ]
  },
  {
   "cell_type": "code",
   "execution_count": 71,
   "id": "f55b3366",
   "metadata": {},
   "outputs": [],
   "source": [
    "for url in URL2:\n",
    "    driver.get(url)\n",
    "    rat=driver.find_elements_by_xpath(\"//div[@class='col _2wzgFH K0kLPL']/div[1]/div\")\n",
    "    for i in rat:\n",
    "        RAT.append(i.text)\n",
    "    rev=driver.find_elements_by_xpath(\"//div[@class='_1AtVbE col-12-12']/div/div/div/div[2]/div/div/div\")\n",
    "    for j in rev:\n",
    "        REV.append(j.text)"
   ]
  },
  {
   "cell_type": "code",
   "execution_count": 72,
   "id": "d866c8b7",
   "metadata": {},
   "outputs": [],
   "source": [
    "df2=pd.DataFrame()"
   ]
  },
  {
   "cell_type": "code",
   "execution_count": 73,
   "id": "57491413",
   "metadata": {},
   "outputs": [],
   "source": [
    "df2['RATING']=RAT[:]\n",
    "df2['REVIEWS']=REV[:]"
   ]
  },
  {
   "cell_type": "code",
   "execution_count": 74,
   "id": "17e1f634",
   "metadata": {},
   "outputs": [],
   "source": [
    "df2=df2.assign(PRODUCT='Phones')"
   ]
  },
  {
   "cell_type": "code",
   "execution_count": 75,
   "id": "b13c9f21",
   "metadata": {},
   "outputs": [
    {
     "data": {
      "text/html": [
       "<div>\n",
       "<style scoped>\n",
       "    .dataframe tbody tr th:only-of-type {\n",
       "        vertical-align: middle;\n",
       "    }\n",
       "\n",
       "    .dataframe tbody tr th {\n",
       "        vertical-align: top;\n",
       "    }\n",
       "\n",
       "    .dataframe thead th {\n",
       "        text-align: right;\n",
       "    }\n",
       "</style>\n",
       "<table border=\"1\" class=\"dataframe\">\n",
       "  <thead>\n",
       "    <tr style=\"text-align: right;\">\n",
       "      <th></th>\n",
       "      <th>RATING</th>\n",
       "      <th>REVIEWS</th>\n",
       "      <th>PRODUCT</th>\n",
       "    </tr>\n",
       "  </thead>\n",
       "  <tbody>\n",
       "    <tr>\n",
       "      <th>0</th>\n",
       "      <td>5</td>\n",
       "      <td>Great Phone at this Price point. Superb cool D...</td>\n",
       "      <td>Phones</td>\n",
       "    </tr>\n",
       "    <tr>\n",
       "      <th>1</th>\n",
       "      <td>4</td>\n",
       "      <td>Good mobile poco m3\\nPros:\\nFullhd display,\\ns...</td>\n",
       "      <td>Phones</td>\n",
       "    </tr>\n",
       "    <tr>\n",
       "      <th>2</th>\n",
       "      <td>5</td>\n",
       "      <td>Good phone battery🔋 And camera This price poin...</td>\n",
       "      <td>Phones</td>\n",
       "    </tr>\n",
       "    <tr>\n",
       "      <th>3</th>\n",
       "      <td>5</td>\n",
       "      <td>One word review \" Value for Money\"\\nIt has the...</td>\n",
       "      <td>Phones</td>\n",
       "    </tr>\n",
       "    <tr>\n",
       "      <th>4</th>\n",
       "      <td>4</td>\n",
       "      <td>Sound quality super 3 type sound but camera se...</td>\n",
       "      <td>Phones</td>\n",
       "    </tr>\n",
       "    <tr>\n",
       "      <th>...</th>\n",
       "      <td>...</td>\n",
       "      <td>...</td>\n",
       "      <td>...</td>\n",
       "    </tr>\n",
       "    <tr>\n",
       "      <th>5483</th>\n",
       "      <td>5</td>\n",
       "      <td>It are very hood phone in this rate</td>\n",
       "      <td>Phones</td>\n",
       "    </tr>\n",
       "    <tr>\n",
       "      <th>5484</th>\n",
       "      <td>1</td>\n",
       "      <td>I'm not as expected</td>\n",
       "      <td>Phones</td>\n",
       "    </tr>\n",
       "    <tr>\n",
       "      <th>5485</th>\n",
       "      <td>5</td>\n",
       "      <td>Very good</td>\n",
       "      <td>Phones</td>\n",
       "    </tr>\n",
       "    <tr>\n",
       "      <th>5486</th>\n",
       "      <td>3</td>\n",
       "      <td>Nc fdb</td>\n",
       "      <td>Phones</td>\n",
       "    </tr>\n",
       "    <tr>\n",
       "      <th>5487</th>\n",
       "      <td>3</td>\n",
       "      <td>Good</td>\n",
       "      <td>Phones</td>\n",
       "    </tr>\n",
       "  </tbody>\n",
       "</table>\n",
       "<p>5488 rows × 3 columns</p>\n",
       "</div>"
      ],
      "text/plain": [
       "     RATING                                            REVIEWS PRODUCT\n",
       "0         5  Great Phone at this Price point. Superb cool D...  Phones\n",
       "1         4  Good mobile poco m3\\nPros:\\nFullhd display,\\ns...  Phones\n",
       "2         5  Good phone battery🔋 And camera This price poin...  Phones\n",
       "3         5  One word review \" Value for Money\"\\nIt has the...  Phones\n",
       "4         4  Sound quality super 3 type sound but camera se...  Phones\n",
       "...     ...                                                ...     ...\n",
       "5483      5                It are very hood phone in this rate  Phones\n",
       "5484      1                                I'm not as expected  Phones\n",
       "5485      5                                          Very good  Phones\n",
       "5486      3                                             Nc fdb  Phones\n",
       "5487      3                                               Good  Phones\n",
       "\n",
       "[5488 rows x 3 columns]"
      ]
     },
     "execution_count": 75,
     "metadata": {},
     "output_type": "execute_result"
    }
   ],
   "source": [
    "df2"
   ]
  },
  {
   "cell_type": "code",
   "execution_count": 76,
   "id": "88c3ed1a",
   "metadata": {},
   "outputs": [
    {
     "data": {
      "text/plain": [
       "5    3624\n",
       "4    1233\n",
       "3     300\n",
       "1     224\n",
       "2     107\n",
       "Name: RATING, dtype: int64"
      ]
     },
     "execution_count": 76,
     "metadata": {},
     "output_type": "execute_result"
    }
   ],
   "source": [
    "\n",
    "df2['RATING'].value_counts()"
   ]
  },
  {
   "cell_type": "code",
   "execution_count": 77,
   "id": "a580ab7c",
   "metadata": {},
   "outputs": [],
   "source": [
    "\n",
    "dff=df2[df2.RATING=='5']"
   ]
  },
  {
   "cell_type": "code",
   "execution_count": 78,
   "id": "3337445f",
   "metadata": {},
   "outputs": [],
   "source": [
    "\n",
    "dff=dff.iloc[0:2000,:]"
   ]
  },
  {
   "cell_type": "code",
   "execution_count": 79,
   "id": "2423d965",
   "metadata": {},
   "outputs": [],
   "source": [
    "\n",
    "df2.drop(df2.index[df2['RATING']=='5'],inplace=True)"
   ]
  },
  {
   "cell_type": "code",
   "execution_count": 80,
   "id": "1a16534f",
   "metadata": {},
   "outputs": [],
   "source": [
    "\n",
    "df2=pd.concat([df2,dff],axis=0)"
   ]
  },
  {
   "cell_type": "code",
   "execution_count": 81,
   "id": "d183dae0",
   "metadata": {},
   "outputs": [
    {
     "data": {
      "text/plain": [
       "(3864, 3)"
      ]
     },
     "execution_count": 81,
     "metadata": {},
     "output_type": "execute_result"
    }
   ],
   "source": [
    "\n",
    "df2.shape"
   ]
  },
  {
   "cell_type": "code",
   "execution_count": 82,
   "id": "57fa8b6c",
   "metadata": {},
   "outputs": [],
   "source": [
    "driver.close()"
   ]
  },
  {
   "cell_type": "markdown",
   "id": "8515c8ee",
   "metadata": {},
   "source": [
    "# Scrapping data for 'Headphone' from flipkart"
   ]
  },
  {
   "cell_type": "code",
   "execution_count": 83,
   "id": "760d90f3",
   "metadata": {},
   "outputs": [],
   "source": [
    "#First we will connect to webdriver\n",
    "driver=webdriver.Chrome(r'/Users/ankit/chromedriver')"
   ]
  },
  {
   "cell_type": "code",
   "execution_count": 84,
   "id": "f3943b18",
   "metadata": {},
   "outputs": [],
   "source": [
    "#Open the webpage with webdriver\n",
    "driver.get('https://www.flipkart.com/')"
   ]
  },
  {
   "cell_type": "code",
   "execution_count": 85,
   "id": "0ebc0a3c",
   "metadata": {},
   "outputs": [],
   "source": [
    "#Finding elements for search bar\n",
    "search1=driver.find_element_by_xpath(\"//input[@class='_3704LK']\")\n",
    "search1.send_keys('Headphones')"
   ]
  },
  {
   "cell_type": "code",
   "execution_count": 86,
   "id": "fcc70f17",
   "metadata": {},
   "outputs": [],
   "source": [
    "#Clicking\n",
    "click1=driver.find_element_by_xpath(\"//button[@class='L0Z3Pu']\").click()"
   ]
  },
  {
   "cell_type": "code",
   "execution_count": 87,
   "id": "65db892c",
   "metadata": {},
   "outputs": [],
   "source": [
    "URL=[]"
   ]
  },
  {
   "cell_type": "code",
   "execution_count": 88,
   "id": "a0179904",
   "metadata": {},
   "outputs": [],
   "source": [
    "for j in range(1,21):\n",
    "    driver.get('https://www.flipkart.com/search?q=Headphones&otracker=search&otracker1=search&marketplace=FLIPKART&as-show=on&as=off&page='+str(j))\n",
    "    urls=driver.find_elements_by_xpath(\"//div[@class='_1AtVbE col-12-12']/div/div/div/a[1]\")\n",
    "    for url in urls:\n",
    "        URL.append(url.get_attribute('href'))"
   ]
  },
  {
   "cell_type": "code",
   "execution_count": 89,
   "id": "3c97f45b",
   "metadata": {},
   "outputs": [
    {
     "name": "stdout",
     "output_type": "stream",
     "text": [
      "760\n"
     ]
    }
   ],
   "source": [
    "print(len(URL))"
   ]
  },
  {
   "cell_type": "code",
   "execution_count": 90,
   "id": "fd358b17",
   "metadata": {},
   "outputs": [],
   "source": [
    "URL2=[]"
   ]
  },
  {
   "cell_type": "code",
   "execution_count": 91,
   "id": "32e45084",
   "metadata": {},
   "outputs": [],
   "source": [
    "for url in URL:\n",
    "    driver.get(url)\n",
    "    rev_lk=driver.find_elements_by_xpath(\"//div[@class='col JOpGWq']/a\")\n",
    "    for url2 in rev_lk:\n",
    "        URL2.append(url2.get_attribute('href'))"
   ]
  },
  {
   "cell_type": "code",
   "execution_count": 92,
   "id": "a130c43e",
   "metadata": {},
   "outputs": [
    {
     "name": "stdout",
     "output_type": "stream",
     "text": [
      "682\n"
     ]
    }
   ],
   "source": [
    "print(len(URL2))"
   ]
  },
  {
   "cell_type": "code",
   "execution_count": 93,
   "id": "d5e41a3f",
   "metadata": {},
   "outputs": [],
   "source": [
    "RAT=[]\n",
    "REV=[]"
   ]
  },
  {
   "cell_type": "code",
   "execution_count": 94,
   "id": "36236d01",
   "metadata": {},
   "outputs": [],
   "source": [
    "for url in URL2:\n",
    "    driver.get(url)\n",
    "    rat=driver.find_elements_by_xpath(\"//div[@class='col _2wzgFH K0kLPL']/div[1]/div\")\n",
    "    for i in rat:\n",
    "        RAT.append(i.text)\n",
    "    rev=driver.find_elements_by_xpath(\"//div[@class='_1AtVbE col-12-12']/div/div/div/div[2]/div/div/div\")\n",
    "    for j in rev:\n",
    "        REV.append(j.text)"
   ]
  },
  {
   "cell_type": "code",
   "execution_count": 95,
   "id": "00d92acb",
   "metadata": {},
   "outputs": [
    {
     "name": "stdout",
     "output_type": "stream",
     "text": [
      "6687 6687\n"
     ]
    }
   ],
   "source": [
    "print(len(RAT),len(REV))"
   ]
  },
  {
   "cell_type": "code",
   "execution_count": 96,
   "id": "5417db55",
   "metadata": {},
   "outputs": [],
   "source": [
    "df3=pd.DataFrame()"
   ]
  },
  {
   "cell_type": "code",
   "execution_count": 97,
   "id": "2a16fa3c",
   "metadata": {},
   "outputs": [],
   "source": [
    "df3['RATING']=RAT[:]\n",
    "df3['REVIEWS']=REV[:]"
   ]
  },
  {
   "cell_type": "code",
   "execution_count": 105,
   "id": "ede580ff",
   "metadata": {},
   "outputs": [
    {
     "data": {
      "text/html": [
       "<div>\n",
       "<style scoped>\n",
       "    .dataframe tbody tr th:only-of-type {\n",
       "        vertical-align: middle;\n",
       "    }\n",
       "\n",
       "    .dataframe tbody tr th {\n",
       "        vertical-align: top;\n",
       "    }\n",
       "\n",
       "    .dataframe thead th {\n",
       "        text-align: right;\n",
       "    }\n",
       "</style>\n",
       "<table border=\"1\" class=\"dataframe\">\n",
       "  <thead>\n",
       "    <tr style=\"text-align: right;\">\n",
       "      <th></th>\n",
       "      <th>RATING</th>\n",
       "      <th>REVIEWS</th>\n",
       "      <th>PRODUCT</th>\n",
       "    </tr>\n",
       "  </thead>\n",
       "  <tbody>\n",
       "    <tr>\n",
       "      <th>0</th>\n",
       "      <td>3</td>\n",
       "      <td>Detailed review after 1 month of use\\nBass qua...</td>\n",
       "      <td>Headphones</td>\n",
       "    </tr>\n",
       "    <tr>\n",
       "      <th>5</th>\n",
       "      <td>4</td>\n",
       "      <td>Reviewing after using 3 days.\\n\\nSound : So I'...</td>\n",
       "      <td>Headphones</td>\n",
       "    </tr>\n",
       "    <tr>\n",
       "      <th>10</th>\n",
       "      <td>4</td>\n",
       "      <td>I almost returned this as i couldn't get it to...</td>\n",
       "      <td>Headphones</td>\n",
       "    </tr>\n",
       "    <tr>\n",
       "      <th>12</th>\n",
       "      <td>4</td>\n",
       "      <td>No complaint about sound quality, it does the ...</td>\n",
       "      <td>Headphones</td>\n",
       "    </tr>\n",
       "    <tr>\n",
       "      <th>16</th>\n",
       "      <td>4</td>\n",
       "      <td>Very good product I loove it and bass boost + ...</td>\n",
       "      <td>Headphones</td>\n",
       "    </tr>\n",
       "    <tr>\n",
       "      <th>...</th>\n",
       "      <td>...</td>\n",
       "      <td>...</td>\n",
       "      <td>...</td>\n",
       "    </tr>\n",
       "    <tr>\n",
       "      <th>1857</th>\n",
       "      <td>5</td>\n",
       "      <td>Omg!!! This headphone is just awesome!!! Super...</td>\n",
       "      <td>Headphones</td>\n",
       "    </tr>\n",
       "    <tr>\n",
       "      <th>1858</th>\n",
       "      <td>5</td>\n",
       "      <td>Super rich bass,perfect☺☺☺☺\\nDownload the Phil...</td>\n",
       "      <td>Headphones</td>\n",
       "    </tr>\n",
       "    <tr>\n",
       "      <th>1859</th>\n",
       "      <td>5</td>\n",
       "      <td>I recommend this to all of you. Really worth i...</td>\n",
       "      <td>Headphones</td>\n",
       "    </tr>\n",
       "    <tr>\n",
       "      <th>1860</th>\n",
       "      <td>5</td>\n",
       "      <td>It is quite good and used to......I bought it ...</td>\n",
       "      <td>Headphones</td>\n",
       "    </tr>\n",
       "    <tr>\n",
       "      <th>1861</th>\n",
       "      <td>5</td>\n",
       "      <td>This the sound monster. I didn't expect this m...</td>\n",
       "      <td>Headphones</td>\n",
       "    </tr>\n",
       "  </tbody>\n",
       "</table>\n",
       "<p>3483 rows × 3 columns</p>\n",
       "</div>"
      ],
      "text/plain": [
       "     RATING                                            REVIEWS     PRODUCT\n",
       "0         3  Detailed review after 1 month of use\\nBass qua...  Headphones\n",
       "5         4  Reviewing after using 3 days.\\n\\nSound : So I'...  Headphones\n",
       "10        4  I almost returned this as i couldn't get it to...  Headphones\n",
       "12        4  No complaint about sound quality, it does the ...  Headphones\n",
       "16        4  Very good product I loove it and bass boost + ...  Headphones\n",
       "...     ...                                                ...         ...\n",
       "1857      5  Omg!!! This headphone is just awesome!!! Super...  Headphones\n",
       "1858      5  Super rich bass,perfect☺☺☺☺\\nDownload the Phil...  Headphones\n",
       "1859      5  I recommend this to all of you. Really worth i...  Headphones\n",
       "1860      5  It is quite good and used to......I bought it ...  Headphones\n",
       "1861      5  This the sound monster. I didn't expect this m...  Headphones\n",
       "\n",
       "[3483 rows x 3 columns]"
      ]
     },
     "execution_count": 105,
     "metadata": {},
     "output_type": "execute_result"
    }
   ],
   "source": [
    "df3"
   ]
  },
  {
   "cell_type": "code",
   "execution_count": 98,
   "id": "086c148e",
   "metadata": {},
   "outputs": [],
   "source": [
    "df3=df3.assign(PRODUCT='Headphones')"
   ]
  },
  {
   "cell_type": "code",
   "execution_count": 99,
   "id": "9e126fe3",
   "metadata": {},
   "outputs": [
    {
     "data": {
      "text/plain": [
       "5    4504\n",
       "4    1113\n",
       "1     473\n",
       "3     390\n",
       "2     207\n",
       "Name: RATING, dtype: int64"
      ]
     },
     "execution_count": 99,
     "metadata": {},
     "output_type": "execute_result"
    }
   ],
   "source": [
    "df3['RATING'].value_counts()"
   ]
  },
  {
   "cell_type": "code",
   "execution_count": 100,
   "id": "b96c710b",
   "metadata": {},
   "outputs": [],
   "source": [
    "\n",
    "dff=df3[df3.RATING=='5']"
   ]
  },
  {
   "cell_type": "code",
   "execution_count": 101,
   "id": "7a98db2e",
   "metadata": {},
   "outputs": [],
   "source": [
    "\n",
    "dff=dff.iloc[0:1300,:]"
   ]
  },
  {
   "cell_type": "code",
   "execution_count": 102,
   "id": "e4bb2343",
   "metadata": {},
   "outputs": [],
   "source": [
    "df3.drop(df3.index[df3['RATING']=='5'],inplace=True)"
   ]
  },
  {
   "cell_type": "code",
   "execution_count": 103,
   "id": "a34f7b96",
   "metadata": {},
   "outputs": [],
   "source": [
    "df3=pd.concat([df3,dff],axis=0)"
   ]
  },
  {
   "cell_type": "code",
   "execution_count": 104,
   "id": "e9438be3",
   "metadata": {},
   "outputs": [
    {
     "data": {
      "text/plain": [
       "(3483, 3)"
      ]
     },
     "execution_count": 104,
     "metadata": {},
     "output_type": "execute_result"
    }
   ],
   "source": [
    "df3.shape"
   ]
  },
  {
   "cell_type": "code",
   "execution_count": null,
   "id": "ec403b6b",
   "metadata": {},
   "outputs": [],
   "source": [
    "driver.close()"
   ]
  },
  {
   "cell_type": "markdown",
   "id": "027990bf",
   "metadata": {},
   "source": [
    "# Scrapping data for 'Smart watches' from flipkart"
   ]
  },
  {
   "cell_type": "code",
   "execution_count": 106,
   "id": "63888a7b",
   "metadata": {},
   "outputs": [],
   "source": [
    "#First we will connect to webdriver\n",
    "driver=webdriver.Chrome(r'/Users/ankit/chromedriver')"
   ]
  },
  {
   "cell_type": "code",
   "execution_count": 107,
   "id": "337a11e4",
   "metadata": {},
   "outputs": [],
   "source": [
    "#Open the webpage with webdriver\n",
    "driver.get('https://www.flipkart.com/')"
   ]
  },
  {
   "cell_type": "code",
   "execution_count": 108,
   "id": "eb998d7e",
   "metadata": {},
   "outputs": [],
   "source": [
    "#Finding elements for search bar\n",
    "search1=driver.find_element_by_xpath(\"//input[@class='_3704LK']\")\n",
    "search1.send_keys('Smart Watches')"
   ]
  },
  {
   "cell_type": "code",
   "execution_count": 109,
   "id": "92931ba9",
   "metadata": {},
   "outputs": [],
   "source": [
    "\n",
    "#Clicking\n",
    "click1=driver.find_element_by_xpath(\"//button[@class='L0Z3Pu']\").click()"
   ]
  },
  {
   "cell_type": "code",
   "execution_count": 110,
   "id": "61f139a7",
   "metadata": {},
   "outputs": [],
   "source": [
    "URL=[]"
   ]
  },
  {
   "cell_type": "code",
   "execution_count": 111,
   "id": "8f40892e",
   "metadata": {},
   "outputs": [],
   "source": [
    "for j in range(1,31):\n",
    "    driver.get('https://www.flipkart.com/search?q=Smart+Watches&otracker=search&otracker1=search&marketplace=FLIPKART&as-show=on&as=off&page='+str(j))\n",
    "    urls=driver.find_elements_by_xpath(\"//div[@class='_1AtVbE col-12-12']/div/div/div/a\")\n",
    "    for url in urls:\n",
    "        URL.append(url.get_attribute('href'))"
   ]
  },
  {
   "cell_type": "code",
   "execution_count": 112,
   "id": "c232e773",
   "metadata": {},
   "outputs": [
    {
     "name": "stdout",
     "output_type": "stream",
     "text": [
      "696\n"
     ]
    }
   ],
   "source": [
    "\n",
    "print(len(URL))"
   ]
  },
  {
   "cell_type": "code",
   "execution_count": 113,
   "id": "93d84219",
   "metadata": {},
   "outputs": [],
   "source": [
    "URL2=[]"
   ]
  },
  {
   "cell_type": "code",
   "execution_count": 114,
   "id": "759e0423",
   "metadata": {},
   "outputs": [],
   "source": [
    "for url in URL:\n",
    "    driver.get(url)\n",
    "    rev_lk=driver.find_elements_by_xpath(\"//div[@class='col JOpGWq']/a\")\n",
    "    for url2 in rev_lk:\n",
    "        URL2.append(url2.get_attribute('href'))"
   ]
  },
  {
   "cell_type": "code",
   "execution_count": 115,
   "id": "41c754ce",
   "metadata": {},
   "outputs": [
    {
     "name": "stdout",
     "output_type": "stream",
     "text": [
      "253\n"
     ]
    }
   ],
   "source": [
    "print(len(URL2))"
   ]
  },
  {
   "cell_type": "code",
   "execution_count": 116,
   "id": "05aef82b",
   "metadata": {},
   "outputs": [],
   "source": [
    "RAT=[]\n",
    "REV=[]"
   ]
  },
  {
   "cell_type": "code",
   "execution_count": 117,
   "id": "8a8edec0",
   "metadata": {},
   "outputs": [],
   "source": [
    "for url in URL2:\n",
    "    driver.get(url)\n",
    "    rat=driver.find_elements_by_xpath(\"//div[@class='col _2wzgFH K0kLPL']/div[1]/div\")\n",
    "    for i in rat:\n",
    "        RAT.append(i.text)\n",
    "    rev=driver.find_elements_by_xpath(\"//div[@class='_1AtVbE col-12-12']/div/div/div/div[2]/div/div/div\")\n",
    "    for j in rev:\n",
    "        REV.append(j.text)"
   ]
  },
  {
   "cell_type": "code",
   "execution_count": 118,
   "id": "ca1bdec7",
   "metadata": {},
   "outputs": [
    {
     "name": "stdout",
     "output_type": "stream",
     "text": [
      "2251 2251\n"
     ]
    }
   ],
   "source": [
    "print(len(RAT),len(REV))"
   ]
  },
  {
   "cell_type": "code",
   "execution_count": 119,
   "id": "640e4b35",
   "metadata": {},
   "outputs": [],
   "source": [
    "df4=pd.DataFrame()"
   ]
  },
  {
   "cell_type": "code",
   "execution_count": 120,
   "id": "2e21d1d7",
   "metadata": {},
   "outputs": [],
   "source": [
    "df4['RATING']=RAT[:]\n",
    "df4['REVIEWS']=REV[:]"
   ]
  },
  {
   "cell_type": "code",
   "execution_count": 121,
   "id": "16a89228",
   "metadata": {},
   "outputs": [
    {
     "data": {
      "text/html": [
       "<div>\n",
       "<style scoped>\n",
       "    .dataframe tbody tr th:only-of-type {\n",
       "        vertical-align: middle;\n",
       "    }\n",
       "\n",
       "    .dataframe tbody tr th {\n",
       "        vertical-align: top;\n",
       "    }\n",
       "\n",
       "    .dataframe thead th {\n",
       "        text-align: right;\n",
       "    }\n",
       "</style>\n",
       "<table border=\"1\" class=\"dataframe\">\n",
       "  <thead>\n",
       "    <tr style=\"text-align: right;\">\n",
       "      <th></th>\n",
       "      <th>RATING</th>\n",
       "      <th>REVIEWS</th>\n",
       "    </tr>\n",
       "  </thead>\n",
       "  <tbody>\n",
       "    <tr>\n",
       "      <th>0</th>\n",
       "      <td>5</td>\n",
       "      <td>GOOD WATCH</td>\n",
       "    </tr>\n",
       "    <tr>\n",
       "      <th>1</th>\n",
       "      <td>5</td>\n",
       "      <td>Nice product</td>\n",
       "    </tr>\n",
       "    <tr>\n",
       "      <th>2</th>\n",
       "      <td>5</td>\n",
       "      <td>it is very nice product i have a nice expiriance</td>\n",
       "    </tr>\n",
       "    <tr>\n",
       "      <th>3</th>\n",
       "      <td>2</td>\n",
       "      <td>Not bat</td>\n",
       "    </tr>\n",
       "    <tr>\n",
       "      <th>4</th>\n",
       "      <td>1</td>\n",
       "      <td>Plz I am requesting you to not buy this watch....</td>\n",
       "    </tr>\n",
       "    <tr>\n",
       "      <th>...</th>\n",
       "      <td>...</td>\n",
       "      <td>...</td>\n",
       "    </tr>\n",
       "    <tr>\n",
       "      <th>2246</th>\n",
       "      <td>5</td>\n",
       "      <td>Ok</td>\n",
       "    </tr>\n",
       "    <tr>\n",
       "      <th>2247</th>\n",
       "      <td>1</td>\n",
       "      <td>Lovely product,nice barmttery backup</td>\n",
       "    </tr>\n",
       "    <tr>\n",
       "      <th>2248</th>\n",
       "      <td>1</td>\n",
       "      <td>display is small and battery was poor</td>\n",
       "    </tr>\n",
       "    <tr>\n",
       "      <th>2249</th>\n",
       "      <td>1</td>\n",
       "      <td>very bad. it lasts only for 2-3 hours. poor ba...</td>\n",
       "    </tr>\n",
       "    <tr>\n",
       "      <th>2250</th>\n",
       "      <td>5</td>\n",
       "      <td>The watch is too good but battery extentvtime ...</td>\n",
       "    </tr>\n",
       "  </tbody>\n",
       "</table>\n",
       "<p>2251 rows × 2 columns</p>\n",
       "</div>"
      ],
      "text/plain": [
       "     RATING                                            REVIEWS\n",
       "0         5                                         GOOD WATCH\n",
       "1         5                                       Nice product\n",
       "2         5   it is very nice product i have a nice expiriance\n",
       "3         2                                            Not bat\n",
       "4         1  Plz I am requesting you to not buy this watch....\n",
       "...     ...                                                ...\n",
       "2246      5                                                 Ok\n",
       "2247      1               Lovely product,nice barmttery backup\n",
       "2248      1              display is small and battery was poor\n",
       "2249      1  very bad. it lasts only for 2-3 hours. poor ba...\n",
       "2250      5  The watch is too good but battery extentvtime ...\n",
       "\n",
       "[2251 rows x 2 columns]"
      ]
     },
     "execution_count": 121,
     "metadata": {},
     "output_type": "execute_result"
    }
   ],
   "source": [
    "df4"
   ]
  },
  {
   "cell_type": "code",
   "execution_count": 122,
   "id": "8cc7181c",
   "metadata": {},
   "outputs": [],
   "source": [
    "df4=df4.assign(PRODUCT='Smart_phones')"
   ]
  },
  {
   "cell_type": "code",
   "execution_count": 123,
   "id": "eeb1ad99",
   "metadata": {},
   "outputs": [
    {
     "data": {
      "text/plain": [
       "5    985\n",
       "1    619\n",
       "4    232\n",
       "2    212\n",
       "3    203\n",
       "Name: RATING, dtype: int64"
      ]
     },
     "execution_count": 123,
     "metadata": {},
     "output_type": "execute_result"
    }
   ],
   "source": [
    "df4['RATING'].value_counts()"
   ]
  },
  {
   "cell_type": "code",
   "execution_count": 124,
   "id": "bc9617a6",
   "metadata": {},
   "outputs": [],
   "source": [
    "driver.close()"
   ]
  },
  {
   "cell_type": "markdown",
   "id": "2bbd8571",
   "metadata": {},
   "source": [
    "# Scrapping Data for 'Professional Camera' from flipkart"
   ]
  },
  {
   "cell_type": "code",
   "execution_count": 125,
   "id": "776f6a65",
   "metadata": {},
   "outputs": [],
   "source": [
    "#First we will connect to webdriver\n",
    "driver=webdriver.Chrome(r'/Users/ankit/chromedriver')"
   ]
  },
  {
   "cell_type": "code",
   "execution_count": 126,
   "id": "367ff469",
   "metadata": {},
   "outputs": [],
   "source": [
    "#Open the webpage with webdriver\n",
    "driver.get('https://www.flipkart.com/')"
   ]
  },
  {
   "cell_type": "code",
   "execution_count": 127,
   "id": "01928931",
   "metadata": {},
   "outputs": [],
   "source": [
    "#Finding elements for search bar\n",
    "search1=driver.find_element_by_xpath(\"//input[@class='_3704LK']\")\n",
    "search1.send_keys('Professional Camera')"
   ]
  },
  {
   "cell_type": "code",
   "execution_count": 128,
   "id": "a9b66694",
   "metadata": {},
   "outputs": [],
   "source": [
    "#Clicking\n",
    "click1=driver.find_element_by_xpath(\"//button[@class='L0Z3Pu']\").click()"
   ]
  },
  {
   "cell_type": "code",
   "execution_count": 130,
   "id": "b2841978",
   "metadata": {},
   "outputs": [],
   "source": [
    "click2=driver.find_element_by_xpath(\"//a[@class='_2SqgSY']\").click()"
   ]
  },
  {
   "cell_type": "code",
   "execution_count": 131,
   "id": "69308324",
   "metadata": {},
   "outputs": [],
   "source": [
    "URL=[]"
   ]
  },
  {
   "cell_type": "code",
   "execution_count": 132,
   "id": "a45b4830",
   "metadata": {},
   "outputs": [],
   "source": [
    "for j in range(1,5):\n",
    "    driver.get('https://www.flipkart.com/cameras-accessories/cameras/pr?sid=jek%2Cp31&q=Professional+Camera&otracker=categorytree&page='+str(j))\n",
    "    urls=driver.find_elements_by_xpath(\"//div[@class='_1AtVbE col-12-12']/div/div/div/a[1]\")\n",
    "    for url in urls:\n",
    "        URL.append(url.get_attribute('href'))"
   ]
  },
  {
   "cell_type": "code",
   "execution_count": 133,
   "id": "60fa076c",
   "metadata": {},
   "outputs": [
    {
     "name": "stdout",
     "output_type": "stream",
     "text": [
      "96\n"
     ]
    }
   ],
   "source": [
    "print(len(URL))"
   ]
  },
  {
   "cell_type": "code",
   "execution_count": 134,
   "id": "3590e383",
   "metadata": {},
   "outputs": [],
   "source": [
    "URL2=[]"
   ]
  },
  {
   "cell_type": "code",
   "execution_count": 135,
   "id": "38629664",
   "metadata": {},
   "outputs": [],
   "source": [
    "for url in URL:\n",
    "    driver.get(url)\n",
    "    rev_lk=driver.find_elements_by_xpath(\"//div[@class='col JOpGWq']/a\")\n",
    "    for url2 in rev_lk:\n",
    "        URL2.append(url2.get_attribute('href'))"
   ]
  },
  {
   "cell_type": "code",
   "execution_count": 136,
   "id": "81c136ae",
   "metadata": {},
   "outputs": [
    {
     "name": "stdout",
     "output_type": "stream",
     "text": [
      "37\n"
     ]
    }
   ],
   "source": [
    "print(len(URL2))"
   ]
  },
  {
   "cell_type": "code",
   "execution_count": 137,
   "id": "414d761a",
   "metadata": {},
   "outputs": [],
   "source": [
    "RAT=[]\n",
    "REV=[]"
   ]
  },
  {
   "cell_type": "code",
   "execution_count": 138,
   "id": "09d1f086",
   "metadata": {},
   "outputs": [],
   "source": [
    "for url in URL2:\n",
    "    driver.get(url)\n",
    "    rat=driver.find_elements_by_xpath(\"//div[@class='col _2wzgFH K0kLPL']/div[1]/div\")\n",
    "    for i in rat:\n",
    "        RAT.append(i.text)\n",
    "    rev=driver.find_elements_by_xpath(\"//div[@class='_1AtVbE col-12-12']/div/div/div/div[2]/div/div/div\")\n",
    "    for j in rev:\n",
    "        REV.append(j.text)"
   ]
  },
  {
   "cell_type": "code",
   "execution_count": 139,
   "id": "ef069c60",
   "metadata": {},
   "outputs": [
    {
     "name": "stdout",
     "output_type": "stream",
     "text": [
      "341 341\n"
     ]
    }
   ],
   "source": [
    "print(len(RAT),len(REV))"
   ]
  },
  {
   "cell_type": "code",
   "execution_count": 140,
   "id": "81e9ff7b",
   "metadata": {},
   "outputs": [],
   "source": [
    "df5=pd.DataFrame()"
   ]
  },
  {
   "cell_type": "code",
   "execution_count": 141,
   "id": "c09c6299",
   "metadata": {},
   "outputs": [],
   "source": [
    "df5['RATING']=RAT[:]\n",
    "df5['REVIEWS']=REV[:]"
   ]
  },
  {
   "cell_type": "code",
   "execution_count": 143,
   "id": "78eb8820",
   "metadata": {},
   "outputs": [],
   "source": [
    "df5=df5.assign(PRODUCT='Professional_Camera')"
   ]
  },
  {
   "cell_type": "code",
   "execution_count": 144,
   "id": "1cc7c772",
   "metadata": {},
   "outputs": [
    {
     "data": {
      "text/plain": [
       "5    266\n",
       "4     61\n",
       "1      9\n",
       "3      5\n",
       "Name: RATING, dtype: int64"
      ]
     },
     "execution_count": 144,
     "metadata": {},
     "output_type": "execute_result"
    }
   ],
   "source": [
    "df5['RATING'].value_counts()"
   ]
  },
  {
   "cell_type": "code",
   "execution_count": 145,
   "id": "c9151c80",
   "metadata": {},
   "outputs": [],
   "source": [
    "driver.close()"
   ]
  },
  {
   "cell_type": "markdown",
   "id": "261aad9c",
   "metadata": {},
   "source": [
    "# Scrapping data for 'Printers' from flipkart¶"
   ]
  },
  {
   "cell_type": "code",
   "execution_count": 146,
   "id": "4791325d",
   "metadata": {},
   "outputs": [],
   "source": [
    "#First we will connect to webdriver\n",
    "driver=webdriver.Chrome(r'/Users/ankit/chromedriver')"
   ]
  },
  {
   "cell_type": "code",
   "execution_count": 147,
   "id": "155ed9f3",
   "metadata": {},
   "outputs": [],
   "source": [
    "#Open the webpage with webdriver\n",
    "driver.get('https://www.flipkart.com/')"
   ]
  },
  {
   "cell_type": "code",
   "execution_count": 148,
   "id": "5dee2cb1",
   "metadata": {},
   "outputs": [],
   "source": [
    "#Finding elements for search bar\n",
    "search1=driver.find_element_by_xpath(\"//input[@class='_3704LK']\")\n",
    "search1.send_keys('Printers')"
   ]
  },
  {
   "cell_type": "code",
   "execution_count": 149,
   "id": "97d5a0d2",
   "metadata": {},
   "outputs": [],
   "source": [
    "#Clicking\n",
    "click1=driver.find_element_by_xpath(\"//button[@class='L0Z3Pu']\").click()"
   ]
  },
  {
   "cell_type": "code",
   "execution_count": 150,
   "id": "15a808a4",
   "metadata": {},
   "outputs": [],
   "source": [
    "URL=[]"
   ]
  },
  {
   "cell_type": "code",
   "execution_count": 151,
   "id": "9ab61bed",
   "metadata": {},
   "outputs": [],
   "source": [
    "for j in range(1,6):\n",
    "    driver.get('https://www.flipkart.com/computers/computer-peripherals/printers-inks/printers/pr?sid=6bo%2Ctia%2Cffn%2Ct64&q=Printers&otracker=categorytree&page='+str(j))\n",
    "    urls=driver.find_elements_by_xpath(\"//div[@class='_1AtVbE col-12-12']/div/div/div/a[1]\")\n",
    "    for url in urls:\n",
    "        URL.append(url.get_attribute('href'))"
   ]
  },
  {
   "cell_type": "code",
   "execution_count": 152,
   "id": "b79d159f",
   "metadata": {},
   "outputs": [
    {
     "name": "stdout",
     "output_type": "stream",
     "text": [
      "154\n"
     ]
    }
   ],
   "source": [
    "print(len(URL))"
   ]
  },
  {
   "cell_type": "code",
   "execution_count": 153,
   "id": "689567c1",
   "metadata": {},
   "outputs": [],
   "source": [
    "URL2=[]"
   ]
  },
  {
   "cell_type": "code",
   "execution_count": 154,
   "id": "ed738bd9",
   "metadata": {},
   "outputs": [],
   "source": [
    "for url in URL:\n",
    "    driver.get(url)\n",
    "    rev_lk=driver.find_elements_by_xpath(\"//div[@class='col JOpGWq']/a\")\n",
    "    for url2 in rev_lk:\n",
    "        URL2.append(url2.get_attribute('href'))"
   ]
  },
  {
   "cell_type": "code",
   "execution_count": 155,
   "id": "77027e5a",
   "metadata": {},
   "outputs": [
    {
     "name": "stdout",
     "output_type": "stream",
     "text": [
      "96\n"
     ]
    }
   ],
   "source": [
    "print(len(URL2))"
   ]
  },
  {
   "cell_type": "code",
   "execution_count": 156,
   "id": "56d31d92",
   "metadata": {},
   "outputs": [],
   "source": [
    "RAT=[]\n",
    "REV=[]"
   ]
  },
  {
   "cell_type": "code",
   "execution_count": 157,
   "id": "371c3b98",
   "metadata": {},
   "outputs": [],
   "source": [
    "for url in URL2:\n",
    "    driver.get(url)\n",
    "    rat=driver.find_elements_by_xpath(\"//div[@class='col _2wzgFH K0kLPL']/div[1]/div\")\n",
    "    for i in rat:\n",
    "        RAT.append(i.text)\n",
    "    rev=driver.find_elements_by_xpath(\"//div[@class='_1AtVbE col-12-12']/div/div/div/div[2]/div/div/div\")\n",
    "    for j in rev:\n",
    "        REV.append(j.text)"
   ]
  },
  {
   "cell_type": "code",
   "execution_count": 158,
   "id": "a5d2d0f7",
   "metadata": {},
   "outputs": [
    {
     "name": "stdout",
     "output_type": "stream",
     "text": [
      "902 902\n"
     ]
    }
   ],
   "source": [
    "print(len(RAT),len(REV))"
   ]
  },
  {
   "cell_type": "code",
   "execution_count": 159,
   "id": "20396c79",
   "metadata": {},
   "outputs": [],
   "source": [
    "df6=pd.DataFrame()"
   ]
  },
  {
   "cell_type": "code",
   "execution_count": 160,
   "id": "3880bb56",
   "metadata": {},
   "outputs": [],
   "source": [
    "df6['RATING']=RAT[:]\n",
    "df6['REVIEWS']=REV[:]"
   ]
  },
  {
   "cell_type": "code",
   "execution_count": 162,
   "id": "a5d28887",
   "metadata": {},
   "outputs": [],
   "source": [
    "df6=df6.assign(PRODUCT='Printers')"
   ]
  },
  {
   "cell_type": "code",
   "execution_count": 165,
   "id": "d3231f62",
   "metadata": {},
   "outputs": [
    {
     "data": {
      "text/html": [
       "<div>\n",
       "<style scoped>\n",
       "    .dataframe tbody tr th:only-of-type {\n",
       "        vertical-align: middle;\n",
       "    }\n",
       "\n",
       "    .dataframe tbody tr th {\n",
       "        vertical-align: top;\n",
       "    }\n",
       "\n",
       "    .dataframe thead th {\n",
       "        text-align: right;\n",
       "    }\n",
       "</style>\n",
       "<table border=\"1\" class=\"dataframe\">\n",
       "  <thead>\n",
       "    <tr style=\"text-align: right;\">\n",
       "      <th></th>\n",
       "      <th>RATING</th>\n",
       "      <th>REVIEWS</th>\n",
       "      <th>PRODUCT</th>\n",
       "    </tr>\n",
       "  </thead>\n",
       "  <tbody>\n",
       "    <tr>\n",
       "      <th>0</th>\n",
       "      <td>5</td>\n",
       "      <td>Great printer. The color reproduction on the p...</td>\n",
       "      <td>Printers</td>\n",
       "    </tr>\n",
       "    <tr>\n",
       "      <th>1</th>\n",
       "      <td>4</td>\n",
       "      <td>good priinter at the price\\nbut as i expect in...</td>\n",
       "      <td>Printers</td>\n",
       "    </tr>\n",
       "    <tr>\n",
       "      <th>2</th>\n",
       "      <td>1</td>\n",
       "      <td>Not a very user friendly printer..Canon in thi...</td>\n",
       "      <td>Printers</td>\n",
       "    </tr>\n",
       "    <tr>\n",
       "      <th>3</th>\n",
       "      <td>5</td>\n",
       "      <td>It is very good Products and its printing qual...</td>\n",
       "      <td>Printers</td>\n",
       "    </tr>\n",
       "    <tr>\n",
       "      <th>4</th>\n",
       "      <td>4</td>\n",
       "      <td>printer works very well.. great quality... per...</td>\n",
       "      <td>Printers</td>\n",
       "    </tr>\n",
       "    <tr>\n",
       "      <th>...</th>\n",
       "      <td>...</td>\n",
       "      <td>...</td>\n",
       "      <td>...</td>\n",
       "    </tr>\n",
       "    <tr>\n",
       "      <th>897</th>\n",
       "      <td>5</td>\n",
       "      <td>although there was delay in delivery due to co...</td>\n",
       "      <td>Printers</td>\n",
       "    </tr>\n",
       "    <tr>\n",
       "      <th>898</th>\n",
       "      <td>1</td>\n",
       "      <td>Recieved broken piece, good part is got the re...</td>\n",
       "      <td>Printers</td>\n",
       "    </tr>\n",
       "    <tr>\n",
       "      <th>899</th>\n",
       "      <td>5</td>\n",
       "      <td>Good product</td>\n",
       "      <td>Printers</td>\n",
       "    </tr>\n",
       "    <tr>\n",
       "      <th>900</th>\n",
       "      <td>4</td>\n",
       "      <td>good products... use one month and no more issue</td>\n",
       "      <td>Printers</td>\n",
       "    </tr>\n",
       "    <tr>\n",
       "      <th>901</th>\n",
       "      <td>5</td>\n",
       "      <td>good product, easy to install and use, very sl...</td>\n",
       "      <td>Printers</td>\n",
       "    </tr>\n",
       "  </tbody>\n",
       "</table>\n",
       "<p>902 rows × 3 columns</p>\n",
       "</div>"
      ],
      "text/plain": [
       "    RATING                                            REVIEWS   PRODUCT\n",
       "0        5  Great printer. The color reproduction on the p...  Printers\n",
       "1        4  good priinter at the price\\nbut as i expect in...  Printers\n",
       "2        1  Not a very user friendly printer..Canon in thi...  Printers\n",
       "3        5  It is very good Products and its printing qual...  Printers\n",
       "4        4  printer works very well.. great quality... per...  Printers\n",
       "..     ...                                                ...       ...\n",
       "897      5  although there was delay in delivery due to co...  Printers\n",
       "898      1  Recieved broken piece, good part is got the re...  Printers\n",
       "899      5                                       Good product  Printers\n",
       "900      4   good products... use one month and no more issue  Printers\n",
       "901      5  good product, easy to install and use, very sl...  Printers\n",
       "\n",
       "[902 rows x 3 columns]"
      ]
     },
     "execution_count": 165,
     "metadata": {},
     "output_type": "execute_result"
    }
   ],
   "source": [
    "df6"
   ]
  },
  {
   "cell_type": "code",
   "execution_count": 163,
   "id": "4c876fd9",
   "metadata": {},
   "outputs": [
    {
     "data": {
      "text/plain": [
       "5    510\n",
       "4    204\n",
       "1    108\n",
       "3     52\n",
       "2     28\n",
       "Name: RATING, dtype: int64"
      ]
     },
     "execution_count": 163,
     "metadata": {},
     "output_type": "execute_result"
    }
   ],
   "source": [
    "df6['RATING'].value_counts()"
   ]
  },
  {
   "cell_type": "code",
   "execution_count": 164,
   "id": "98bbc035",
   "metadata": {},
   "outputs": [],
   "source": [
    "driver.close()"
   ]
  },
  {
   "cell_type": "markdown",
   "id": "0c6b0eff",
   "metadata": {},
   "source": [
    "# Scrapping data for 'Monitors' from Filpkart"
   ]
  },
  {
   "cell_type": "code",
   "execution_count": 166,
   "id": "ea1c406f",
   "metadata": {},
   "outputs": [],
   "source": [
    "#First we will connect to webdriver\n",
    "driver=webdriver.Chrome(r'/Users/ankit/chromedriver')"
   ]
  },
  {
   "cell_type": "code",
   "execution_count": 167,
   "id": "ed199721",
   "metadata": {},
   "outputs": [],
   "source": [
    "#Open the webpage with webdriver\n",
    "driver.get('https://www.flipkart.com/')"
   ]
  },
  {
   "cell_type": "code",
   "execution_count": 168,
   "id": "f521a369",
   "metadata": {},
   "outputs": [],
   "source": [
    "#Finding elements for search bar\n",
    "search1=driver.find_element_by_xpath(\"//input[@class='_3704LK']\")\n",
    "search1.send_keys('Monitors')"
   ]
  },
  {
   "cell_type": "code",
   "execution_count": 169,
   "id": "9b4fd193",
   "metadata": {},
   "outputs": [],
   "source": [
    "#Clicking\n",
    "click1=driver.find_element_by_xpath(\"//button[@class='L0Z3Pu']\").click()"
   ]
  },
  {
   "cell_type": "code",
   "execution_count": 170,
   "id": "06d6e39c",
   "metadata": {},
   "outputs": [],
   "source": [
    "URL=[]"
   ]
  },
  {
   "cell_type": "code",
   "execution_count": 171,
   "id": "5f1ab0c0",
   "metadata": {},
   "outputs": [],
   "source": [
    "for j in range(1,12):\n",
    "    driver.get('https://www.flipkart.com/search?q=Monitors&otracker=search&otracker1=search&marketplace=FLIPKART&as-show=on&as=off&page='+str(j))\n",
    "    urls=driver.find_elements_by_xpath(\"//div[@class='_1AtVbE col-12-12']/div/div/div/a[1]\")\n",
    "    for url in urls:\n",
    "        URL.append(url.get_attribute('href'))"
   ]
  },
  {
   "cell_type": "code",
   "execution_count": 172,
   "id": "0f7aa196",
   "metadata": {},
   "outputs": [
    {
     "name": "stdout",
     "output_type": "stream",
     "text": [
      "264\n"
     ]
    }
   ],
   "source": [
    "print(len(URL))"
   ]
  },
  {
   "cell_type": "code",
   "execution_count": 173,
   "id": "08d52d46",
   "metadata": {},
   "outputs": [],
   "source": [
    "URL2=[]"
   ]
  },
  {
   "cell_type": "code",
   "execution_count": 174,
   "id": "1d24df12",
   "metadata": {},
   "outputs": [],
   "source": [
    "for url in URL:\n",
    "    driver.get(url)\n",
    "    rev_lk=driver.find_elements_by_xpath(\"//div[@class='col JOpGWq']/a\")\n",
    "    for url2 in rev_lk:\n",
    "        URL2.append(url2.get_attribute('href'))"
   ]
  },
  {
   "cell_type": "code",
   "execution_count": 175,
   "id": "e836cd95",
   "metadata": {},
   "outputs": [
    {
     "name": "stdout",
     "output_type": "stream",
     "text": [
      "101\n"
     ]
    }
   ],
   "source": [
    "print(len(URL2))"
   ]
  },
  {
   "cell_type": "code",
   "execution_count": 176,
   "id": "53b81a13",
   "metadata": {},
   "outputs": [],
   "source": [
    "RAT=[]\n",
    "REV=[]"
   ]
  },
  {
   "cell_type": "code",
   "execution_count": 177,
   "id": "407a298b",
   "metadata": {},
   "outputs": [],
   "source": [
    "for url in URL2:\n",
    "    driver.get(url)\n",
    "    rat=driver.find_elements_by_xpath(\"//div[@class='col _2wzgFH K0kLPL']/div[1]/div\")\n",
    "    for i in rat:\n",
    "        RAT.append(i.text)\n",
    "    rev=driver.find_elements_by_xpath(\"//div[@class='_1AtVbE col-12-12']/div/div/div/div[2]/div/div/div\")\n",
    "    for j in rev:\n",
    "        REV.append(j.text)"
   ]
  },
  {
   "cell_type": "code",
   "execution_count": 178,
   "id": "3852b355",
   "metadata": {},
   "outputs": [
    {
     "name": "stdout",
     "output_type": "stream",
     "text": [
      "913 913\n"
     ]
    }
   ],
   "source": [
    "print(len(RAT),len(REV))"
   ]
  },
  {
   "cell_type": "code",
   "execution_count": 179,
   "id": "63e0f730",
   "metadata": {},
   "outputs": [],
   "source": [
    "df7=pd.DataFrame()"
   ]
  },
  {
   "cell_type": "code",
   "execution_count": 180,
   "id": "b85efd08",
   "metadata": {},
   "outputs": [],
   "source": [
    "df7['RATING']=RAT[:]\n",
    "df7['REVIEWS']=REV[:]"
   ]
  },
  {
   "cell_type": "code",
   "execution_count": 181,
   "id": "c8d45c31",
   "metadata": {},
   "outputs": [],
   "source": [
    "df7=df7.assign(PRODUCT='Monitors')"
   ]
  },
  {
   "cell_type": "code",
   "execution_count": 183,
   "id": "98b28495",
   "metadata": {},
   "outputs": [
    {
     "data": {
      "text/html": [
       "<div>\n",
       "<style scoped>\n",
       "    .dataframe tbody tr th:only-of-type {\n",
       "        vertical-align: middle;\n",
       "    }\n",
       "\n",
       "    .dataframe tbody tr th {\n",
       "        vertical-align: top;\n",
       "    }\n",
       "\n",
       "    .dataframe thead th {\n",
       "        text-align: right;\n",
       "    }\n",
       "</style>\n",
       "<table border=\"1\" class=\"dataframe\">\n",
       "  <thead>\n",
       "    <tr style=\"text-align: right;\">\n",
       "      <th></th>\n",
       "      <th>RATING</th>\n",
       "      <th>REVIEWS</th>\n",
       "      <th>PRODUCT</th>\n",
       "    </tr>\n",
       "  </thead>\n",
       "  <tbody>\n",
       "    <tr>\n",
       "      <th>0</th>\n",
       "      <td>4</td>\n",
       "      <td>Very Good Product. Good Packaging.\\nThe Dell q...</td>\n",
       "      <td>Monitors</td>\n",
       "    </tr>\n",
       "    <tr>\n",
       "      <th>1</th>\n",
       "      <td>4</td>\n",
       "      <td>4.5/5\\n\\nWow.. what a nice product\\nI ❤️ it.\\n...</td>\n",
       "      <td>Monitors</td>\n",
       "    </tr>\n",
       "    <tr>\n",
       "      <th>2</th>\n",
       "      <td>5</td>\n",
       "      <td>Great product from Dell . It's budget friendly...</td>\n",
       "      <td>Monitors</td>\n",
       "    </tr>\n",
       "    <tr>\n",
       "      <th>3</th>\n",
       "      <td>5</td>\n",
       "      <td>Good product by Dell and Flipkart. It has both...</td>\n",
       "      <td>Monitors</td>\n",
       "    </tr>\n",
       "    <tr>\n",
       "      <th>4</th>\n",
       "      <td>4</td>\n",
       "      <td>Its a very good product... Good build quality....</td>\n",
       "      <td>Monitors</td>\n",
       "    </tr>\n",
       "    <tr>\n",
       "      <th>...</th>\n",
       "      <td>...</td>\n",
       "      <td>...</td>\n",
       "      <td>...</td>\n",
       "    </tr>\n",
       "    <tr>\n",
       "      <th>908</th>\n",
       "      <td>5</td>\n",
       "      <td>Best products</td>\n",
       "      <td>Monitors</td>\n",
       "    </tr>\n",
       "    <tr>\n",
       "      <th>909</th>\n",
       "      <td>2</td>\n",
       "      <td>Very bad product.</td>\n",
       "      <td>Monitors</td>\n",
       "    </tr>\n",
       "    <tr>\n",
       "      <th>910</th>\n",
       "      <td>1</td>\n",
       "      <td>Internal sparking sounds came out when power s...</td>\n",
       "      <td>Monitors</td>\n",
       "    </tr>\n",
       "    <tr>\n",
       "      <th>911</th>\n",
       "      <td>4</td>\n",
       "      <td>Good but delivery is very late</td>\n",
       "      <td>Monitors</td>\n",
       "    </tr>\n",
       "    <tr>\n",
       "      <th>912</th>\n",
       "      <td>4</td>\n",
       "      <td>Good Product for it's value</td>\n",
       "      <td>Monitors</td>\n",
       "    </tr>\n",
       "  </tbody>\n",
       "</table>\n",
       "<p>913 rows × 3 columns</p>\n",
       "</div>"
      ],
      "text/plain": [
       "    RATING                                            REVIEWS   PRODUCT\n",
       "0        4  Very Good Product. Good Packaging.\\nThe Dell q...  Monitors\n",
       "1        4  4.5/5\\n\\nWow.. what a nice product\\nI ❤️ it.\\n...  Monitors\n",
       "2        5  Great product from Dell . It's budget friendly...  Monitors\n",
       "3        5  Good product by Dell and Flipkart. It has both...  Monitors\n",
       "4        4  Its a very good product... Good build quality....  Monitors\n",
       "..     ...                                                ...       ...\n",
       "908      5                                      Best products  Monitors\n",
       "909      2                                  Very bad product.  Monitors\n",
       "910      1  Internal sparking sounds came out when power s...  Monitors\n",
       "911      4                     Good but delivery is very late  Monitors\n",
       "912      4                        Good Product for it's value  Monitors\n",
       "\n",
       "[913 rows x 3 columns]"
      ]
     },
     "execution_count": 183,
     "metadata": {},
     "output_type": "execute_result"
    }
   ],
   "source": [
    "df7"
   ]
  },
  {
   "cell_type": "code",
   "execution_count": 184,
   "id": "0afbafc3",
   "metadata": {},
   "outputs": [
    {
     "data": {
      "text/plain": [
       "5    596\n",
       "4    180\n",
       "3     54\n",
       "1     53\n",
       "2     30\n",
       "Name: RATING, dtype: int64"
      ]
     },
     "execution_count": 184,
     "metadata": {},
     "output_type": "execute_result"
    }
   ],
   "source": [
    "df7['RATING'].value_counts()"
   ]
  },
  {
   "cell_type": "code",
   "execution_count": 185,
   "id": "3bc02e4d",
   "metadata": {},
   "outputs": [],
   "source": [
    "driver.close()"
   ]
  },
  {
   "cell_type": "markdown",
   "id": "7eeb5bc4",
   "metadata": {},
   "source": [
    "# Scrapping data for 'Home theatre' from Filpkart"
   ]
  },
  {
   "cell_type": "code",
   "execution_count": 186,
   "id": "3f82a4e5",
   "metadata": {},
   "outputs": [],
   "source": [
    "#First we will connect to webdriver\n",
    "driver=webdriver.Chrome(r'/Users/ankit/chromedriver')"
   ]
  },
  {
   "cell_type": "code",
   "execution_count": 187,
   "id": "a5b3a7ed",
   "metadata": {},
   "outputs": [],
   "source": [
    "#Open the webpage with webdriver\n",
    "driver.get('https://www.flipkart.com/')"
   ]
  },
  {
   "cell_type": "code",
   "execution_count": 188,
   "id": "30e0ebbd",
   "metadata": {},
   "outputs": [],
   "source": [
    "#Finding elements for search bar\n",
    "search1=driver.find_element_by_xpath(\"//input[@class='_3704LK']\")\n",
    "search1.send_keys('Home theatre')"
   ]
  },
  {
   "cell_type": "code",
   "execution_count": 189,
   "id": "1a25c00d",
   "metadata": {},
   "outputs": [],
   "source": [
    "#Clicking\n",
    "click1=driver.find_element_by_xpath(\"//button[@class='L0Z3Pu']\").click()"
   ]
  },
  {
   "cell_type": "code",
   "execution_count": 190,
   "id": "ea4d6480",
   "metadata": {},
   "outputs": [],
   "source": [
    "URL=[]"
   ]
  },
  {
   "cell_type": "code",
   "execution_count": 192,
   "id": "42fe1f97",
   "metadata": {},
   "outputs": [],
   "source": [
    "for j in range(1,31):\n",
    "    driver.get('https://www.flipkart.com/search?q=Home+theatre&otracker=search&otracker1=search&marketplace=FLIPKART&as-show=on&as=off&page='+str(j))\n",
    "    urls=driver.find_elements_by_xpath(\"//div[@class='_1AtVbE col-12-12']/div/div/div/a[1]\")\n",
    "    for url in urls:\n",
    "        URL.append(url.get_attribute('href'))"
   ]
  },
  {
   "cell_type": "code",
   "execution_count": 193,
   "id": "71504458",
   "metadata": {},
   "outputs": [],
   "source": [
    "URL2=[]"
   ]
  },
  {
   "cell_type": "code",
   "execution_count": 194,
   "id": "67cd149a",
   "metadata": {},
   "outputs": [],
   "source": [
    "for url in URL:\n",
    "    driver.get(url)\n",
    "    rev_lk=driver.find_elements_by_xpath(\"//div[@class='col JOpGWq']/a\")\n",
    "    for url2 in rev_lk:\n",
    "        URL2.append(url2.get_attribute('href'))"
   ]
  },
  {
   "cell_type": "code",
   "execution_count": 195,
   "id": "d3b6324d",
   "metadata": {},
   "outputs": [],
   "source": [
    "RAT=[]\n",
    "REV=[]"
   ]
  },
  {
   "cell_type": "code",
   "execution_count": 196,
   "id": "1ecbb385",
   "metadata": {},
   "outputs": [],
   "source": [
    "for url in URL2:\n",
    "    driver.get(url)\n",
    "    rat=driver.find_elements_by_xpath(\"//div[@class='col _2wzgFH K0kLPL']/div[1]/div\")\n",
    "    for i in rat:\n",
    "        RAT.append(i.text)\n",
    "    rev=driver.find_elements_by_xpath(\"//div[@class='_1AtVbE col-12-12']/div/div/div/div[2]/div/div/div\")\n",
    "    for j in rev:\n",
    "        REV.append(j.text)"
   ]
  },
  {
   "cell_type": "code",
   "execution_count": 197,
   "id": "a2b043e0",
   "metadata": {},
   "outputs": [],
   "source": [
    "df8=pd.DataFrame()"
   ]
  },
  {
   "cell_type": "code",
   "execution_count": 198,
   "id": "532b95ec",
   "metadata": {},
   "outputs": [],
   "source": [
    "df8['RATING']=RAT[:]\n",
    "df8['REVIEWS']=REV[:]"
   ]
  },
  {
   "cell_type": "code",
   "execution_count": 199,
   "id": "91333305",
   "metadata": {},
   "outputs": [],
   "source": [
    "df8=df8.assign(PRODUCT='Home_theatre')"
   ]
  },
  {
   "cell_type": "code",
   "execution_count": 200,
   "id": "b09a2a57",
   "metadata": {},
   "outputs": [
    {
     "data": {
      "text/html": [
       "<div>\n",
       "<style scoped>\n",
       "    .dataframe tbody tr th:only-of-type {\n",
       "        vertical-align: middle;\n",
       "    }\n",
       "\n",
       "    .dataframe tbody tr th {\n",
       "        vertical-align: top;\n",
       "    }\n",
       "\n",
       "    .dataframe thead th {\n",
       "        text-align: right;\n",
       "    }\n",
       "</style>\n",
       "<table border=\"1\" class=\"dataframe\">\n",
       "  <thead>\n",
       "    <tr style=\"text-align: right;\">\n",
       "      <th></th>\n",
       "      <th>RATING</th>\n",
       "      <th>REVIEWS</th>\n",
       "      <th>PRODUCT</th>\n",
       "    </tr>\n",
       "  </thead>\n",
       "  <tbody>\n",
       "    <tr>\n",
       "      <th>0</th>\n",
       "      <td>5</td>\n",
       "      <td>Boss of all Bluetooth speaker..boommmmmm box.\\...</td>\n",
       "      <td>Home_theatre</td>\n",
       "    </tr>\n",
       "    <tr>\n",
       "      <th>1</th>\n",
       "      <td>5</td>\n",
       "      <td>Awesome Product It's generate thump like separ...</td>\n",
       "      <td>Home_theatre</td>\n",
       "    </tr>\n",
       "    <tr>\n",
       "      <th>2</th>\n",
       "      <td>5</td>\n",
       "      <td>What an awesome product. Worth buying. I am lo...</td>\n",
       "      <td>Home_theatre</td>\n",
       "    </tr>\n",
       "    <tr>\n",
       "      <th>3</th>\n",
       "      <td>5</td>\n",
       "      <td>Super bass .\\nSound quality super.\\nBattery ba...</td>\n",
       "      <td>Home_theatre</td>\n",
       "    </tr>\n",
       "    <tr>\n",
       "      <th>4</th>\n",
       "      <td>5</td>\n",
       "      <td>Read so much , test so many !! Bose , Marshall...</td>\n",
       "      <td>Home_theatre</td>\n",
       "    </tr>\n",
       "    <tr>\n",
       "      <th>...</th>\n",
       "      <td>...</td>\n",
       "      <td>...</td>\n",
       "      <td>...</td>\n",
       "    </tr>\n",
       "    <tr>\n",
       "      <th>4385</th>\n",
       "      <td>5</td>\n",
       "      <td>Awesome......I got it for 3550 in sale and m s...</td>\n",
       "      <td>Home_theatre</td>\n",
       "    </tr>\n",
       "    <tr>\n",
       "      <th>4386</th>\n",
       "      <td>4</td>\n",
       "      <td>giving review after 1yr of use...\\n\\nawesome p...</td>\n",
       "      <td>Home_theatre</td>\n",
       "    </tr>\n",
       "    <tr>\n",
       "      <th>4387</th>\n",
       "      <td>5</td>\n",
       "      <td>best product ,,i got in rs 2999/- ,,, Philips ...</td>\n",
       "      <td>Home_theatre</td>\n",
       "    </tr>\n",
       "    <tr>\n",
       "      <th>4388</th>\n",
       "      <td>5</td>\n",
       "      <td>Actually product is very good and having good ...</td>\n",
       "      <td>Home_theatre</td>\n",
       "    </tr>\n",
       "    <tr>\n",
       "      <th>4389</th>\n",
       "      <td>5</td>\n",
       "      <td>Excellent bass ... Blutooth is very fast. All ...</td>\n",
       "      <td>Home_theatre</td>\n",
       "    </tr>\n",
       "  </tbody>\n",
       "</table>\n",
       "<p>4390 rows × 3 columns</p>\n",
       "</div>"
      ],
      "text/plain": [
       "     RATING                                            REVIEWS       PRODUCT\n",
       "0         5  Boss of all Bluetooth speaker..boommmmmm box.\\...  Home_theatre\n",
       "1         5  Awesome Product It's generate thump like separ...  Home_theatre\n",
       "2         5  What an awesome product. Worth buying. I am lo...  Home_theatre\n",
       "3         5  Super bass .\\nSound quality super.\\nBattery ba...  Home_theatre\n",
       "4         5  Read so much , test so many !! Bose , Marshall...  Home_theatre\n",
       "...     ...                                                ...           ...\n",
       "4385      5  Awesome......I got it for 3550 in sale and m s...  Home_theatre\n",
       "4386      4  giving review after 1yr of use...\\n\\nawesome p...  Home_theatre\n",
       "4387      5  best product ,,i got in rs 2999/- ,,, Philips ...  Home_theatre\n",
       "4388      5  Actually product is very good and having good ...  Home_theatre\n",
       "4389      5  Excellent bass ... Blutooth is very fast. All ...  Home_theatre\n",
       "\n",
       "[4390 rows x 3 columns]"
      ]
     },
     "execution_count": 200,
     "metadata": {},
     "output_type": "execute_result"
    }
   ],
   "source": [
    "df8"
   ]
  },
  {
   "cell_type": "code",
   "execution_count": 201,
   "id": "601171f6",
   "metadata": {},
   "outputs": [
    {
     "data": {
      "text/plain": [
       "5    2702\n",
       "4     800\n",
       "1     368\n",
       "3     345\n",
       "2     175\n",
       "Name: RATING, dtype: int64"
      ]
     },
     "execution_count": 201,
     "metadata": {},
     "output_type": "execute_result"
    }
   ],
   "source": [
    "\n",
    "df8['RATING'].value_counts()"
   ]
  },
  {
   "cell_type": "code",
   "execution_count": 202,
   "id": "93b72ac8",
   "metadata": {},
   "outputs": [],
   "source": [
    "dff=df8[df8.RATING=='5']"
   ]
  },
  {
   "cell_type": "code",
   "execution_count": 203,
   "id": "6eeb04df",
   "metadata": {},
   "outputs": [],
   "source": [
    "dff=dff.iloc[0:1000,:]"
   ]
  },
  {
   "cell_type": "code",
   "execution_count": 204,
   "id": "f1faef03",
   "metadata": {},
   "outputs": [],
   "source": [
    "df8.drop(df8.index[df8['RATING']=='5'], inplace=True)"
   ]
  },
  {
   "cell_type": "code",
   "execution_count": 205,
   "id": "198350ea",
   "metadata": {},
   "outputs": [],
   "source": [
    "df8=pd.concat([df8,dff],axis=0)"
   ]
  },
  {
   "cell_type": "code",
   "execution_count": 206,
   "id": "d76ee8e3",
   "metadata": {},
   "outputs": [
    {
     "data": {
      "text/plain": [
       "(2688, 3)"
      ]
     },
     "execution_count": 206,
     "metadata": {},
     "output_type": "execute_result"
    }
   ],
   "source": [
    "df8.shape"
   ]
  },
  {
   "cell_type": "code",
   "execution_count": 207,
   "id": "2c7c2c6f",
   "metadata": {},
   "outputs": [],
   "source": [
    "driver.close()"
   ]
  },
  {
   "cell_type": "markdown",
   "id": "65c98cb5",
   "metadata": {},
   "source": [
    "# Scrapping data for 'router' from Filpkart"
   ]
  },
  {
   "cell_type": "code",
   "execution_count": 208,
   "id": "3970ea4d",
   "metadata": {},
   "outputs": [],
   "source": [
    "#First we will connect to webdriver\n",
    "driver=webdriver.Chrome(r'/Users/ankit/chromedriver')"
   ]
  },
  {
   "cell_type": "code",
   "execution_count": 209,
   "id": "66675df2",
   "metadata": {},
   "outputs": [],
   "source": [
    "#Open the webpage with webdriver\n",
    "driver.get('https://www.flipkart.com/')"
   ]
  },
  {
   "cell_type": "code",
   "execution_count": 210,
   "id": "1961c769",
   "metadata": {},
   "outputs": [],
   "source": [
    "#Finding elements for search bar\n",
    "search1=driver.find_element_by_xpath(\"//input[@class='_3704LK']\")\n",
    "search1.send_keys('router')"
   ]
  },
  {
   "cell_type": "code",
   "execution_count": 211,
   "id": "f997c0bb",
   "metadata": {},
   "outputs": [],
   "source": [
    "#Clicking\n",
    "click1=driver.find_element_by_xpath(\"//button[@class='L0Z3Pu']\").click()"
   ]
  },
  {
   "cell_type": "code",
   "execution_count": 212,
   "id": "6c589334",
   "metadata": {},
   "outputs": [],
   "source": [
    "URL=[]"
   ]
  },
  {
   "cell_type": "code",
   "execution_count": 213,
   "id": "60e0bbbf",
   "metadata": {},
   "outputs": [],
   "source": [
    "for j in range(1,11):\n",
    "    driver.get('https://www.flipkart.com/search?q=router&otracker=search&otracker1=search&marketplace=FLIPKART&as-show=on&as=off&page='+str(j))\n",
    "    urls=driver.find_elements_by_xpath(\"//div[@class='_1AtVbE col-12-12']/div/div/div/a[1]\")\n",
    "    for url in urls:\n",
    "        URL.append(url.get_attribute('href'))"
   ]
  },
  {
   "cell_type": "code",
   "execution_count": 214,
   "id": "9dff821b",
   "metadata": {},
   "outputs": [
    {
     "name": "stdout",
     "output_type": "stream",
     "text": [
      "400\n"
     ]
    }
   ],
   "source": [
    "print(len(URL))"
   ]
  },
  {
   "cell_type": "code",
   "execution_count": 215,
   "id": "46b636a4",
   "metadata": {},
   "outputs": [],
   "source": [
    "\n",
    "URL2=[]"
   ]
  },
  {
   "cell_type": "code",
   "execution_count": 216,
   "id": "f5501797",
   "metadata": {},
   "outputs": [],
   "source": [
    "for url in URL:\n",
    "    driver.get(url)\n",
    "    rev_lk=driver.find_elements_by_xpath(\"//div[@class='col JOpGWq']/a\")\n",
    "    for url2 in rev_lk:\n",
    "        URL2.append(url2.get_attribute('href'))"
   ]
  },
  {
   "cell_type": "code",
   "execution_count": 217,
   "id": "63024a91",
   "metadata": {},
   "outputs": [
    {
     "name": "stdout",
     "output_type": "stream",
     "text": [
      "164\n"
     ]
    }
   ],
   "source": [
    "print(len(URL2))\n"
   ]
  },
  {
   "cell_type": "code",
   "execution_count": 218,
   "id": "4b11bda8",
   "metadata": {},
   "outputs": [],
   "source": [
    "RAT=[]\n",
    "REV=[]"
   ]
  },
  {
   "cell_type": "code",
   "execution_count": 219,
   "id": "7c8059ae",
   "metadata": {},
   "outputs": [],
   "source": [
    "for url in URL2:\n",
    "    driver.get(url)\n",
    "    rat=driver.find_elements_by_xpath(\"//div[@class='col _2wzgFH K0kLPL']/div[1]/div\")\n",
    "    for i in rat:\n",
    "        RAT.append(i.text)\n",
    "    rev=driver.find_elements_by_xpath(\"//div[@class='_1AtVbE col-12-12']/div/div/div/div[2]/div/div/div\")\n",
    "    for j in rev:\n",
    "        REV.append(j.text)"
   ]
  },
  {
   "cell_type": "code",
   "execution_count": 220,
   "id": "17e24f94",
   "metadata": {},
   "outputs": [
    {
     "name": "stdout",
     "output_type": "stream",
     "text": [
      "1428 1428\n"
     ]
    }
   ],
   "source": [
    "print(len(RAT),len(REV))"
   ]
  },
  {
   "cell_type": "code",
   "execution_count": 221,
   "id": "b8584758",
   "metadata": {},
   "outputs": [],
   "source": [
    "df9=pd.DataFrame()"
   ]
  },
  {
   "cell_type": "code",
   "execution_count": 222,
   "id": "c6bc2c4f",
   "metadata": {},
   "outputs": [],
   "source": [
    "df9['RATING']=RAT[:]\n",
    "df9['REVIEWS']=REV[:]"
   ]
  },
  {
   "cell_type": "code",
   "execution_count": 223,
   "id": "68c36cd8",
   "metadata": {},
   "outputs": [],
   "source": [
    "df9=df9.assign(PRODUCT='Router')\n"
   ]
  },
  {
   "cell_type": "code",
   "execution_count": 224,
   "id": "f016cb3a",
   "metadata": {},
   "outputs": [
    {
     "data": {
      "text/html": [
       "<div>\n",
       "<style scoped>\n",
       "    .dataframe tbody tr th:only-of-type {\n",
       "        vertical-align: middle;\n",
       "    }\n",
       "\n",
       "    .dataframe tbody tr th {\n",
       "        vertical-align: top;\n",
       "    }\n",
       "\n",
       "    .dataframe thead th {\n",
       "        text-align: right;\n",
       "    }\n",
       "</style>\n",
       "<table border=\"1\" class=\"dataframe\">\n",
       "  <thead>\n",
       "    <tr style=\"text-align: right;\">\n",
       "      <th></th>\n",
       "      <th>RATING</th>\n",
       "      <th>REVIEWS</th>\n",
       "      <th>PRODUCT</th>\n",
       "    </tr>\n",
       "  </thead>\n",
       "  <tbody>\n",
       "    <tr>\n",
       "      <th>0</th>\n",
       "      <td>5</td>\n",
       "      <td>This is the best WiFi router in this price ran...</td>\n",
       "      <td>Router</td>\n",
       "    </tr>\n",
       "    <tr>\n",
       "      <th>1</th>\n",
       "      <td>5</td>\n",
       "      <td>Just fabulous performance, i am very glad to c...</td>\n",
       "      <td>Router</td>\n",
       "    </tr>\n",
       "    <tr>\n",
       "      <th>2</th>\n",
       "      <td>5</td>\n",
       "      <td>If you want a router for medium sized Flat/hom...</td>\n",
       "      <td>Router</td>\n",
       "    </tr>\n",
       "    <tr>\n",
       "      <th>3</th>\n",
       "      <td>4</td>\n",
       "      <td>Does the job. It is good for 2 BHK home usage....</td>\n",
       "      <td>Router</td>\n",
       "    </tr>\n",
       "    <tr>\n",
       "      <th>4</th>\n",
       "      <td>5</td>\n",
       "      <td>Signal Strength is good... i said awesome... s...</td>\n",
       "      <td>Router</td>\n",
       "    </tr>\n",
       "    <tr>\n",
       "      <th>...</th>\n",
       "      <td>...</td>\n",
       "      <td>...</td>\n",
       "      <td>...</td>\n",
       "    </tr>\n",
       "    <tr>\n",
       "      <th>1423</th>\n",
       "      <td>5</td>\n",
       "      <td>good</td>\n",
       "      <td>Router</td>\n",
       "    </tr>\n",
       "    <tr>\n",
       "      <th>1424</th>\n",
       "      <td>4</td>\n",
       "      <td>Good product at this price</td>\n",
       "      <td>Router</td>\n",
       "    </tr>\n",
       "    <tr>\n",
       "      <th>1425</th>\n",
       "      <td>5</td>\n",
       "      <td>Ausome</td>\n",
       "      <td>Router</td>\n",
       "    </tr>\n",
       "    <tr>\n",
       "      <th>1426</th>\n",
       "      <td>3</td>\n",
       "      <td>Avarage ok</td>\n",
       "      <td>Router</td>\n",
       "    </tr>\n",
       "    <tr>\n",
       "      <th>1427</th>\n",
       "      <td>1</td>\n",
       "      <td>Not good</td>\n",
       "      <td>Router</td>\n",
       "    </tr>\n",
       "  </tbody>\n",
       "</table>\n",
       "<p>1428 rows × 3 columns</p>\n",
       "</div>"
      ],
      "text/plain": [
       "     RATING                                            REVIEWS PRODUCT\n",
       "0         5  This is the best WiFi router in this price ran...  Router\n",
       "1         5  Just fabulous performance, i am very glad to c...  Router\n",
       "2         5  If you want a router for medium sized Flat/hom...  Router\n",
       "3         4  Does the job. It is good for 2 BHK home usage....  Router\n",
       "4         5  Signal Strength is good... i said awesome... s...  Router\n",
       "...     ...                                                ...     ...\n",
       "1423      5                                               good  Router\n",
       "1424      4                         Good product at this price  Router\n",
       "1425      5                                             Ausome  Router\n",
       "1426      3                                         Avarage ok  Router\n",
       "1427      1                                           Not good  Router\n",
       "\n",
       "[1428 rows x 3 columns]"
      ]
     },
     "execution_count": 224,
     "metadata": {},
     "output_type": "execute_result"
    }
   ],
   "source": [
    "df9"
   ]
  },
  {
   "cell_type": "code",
   "execution_count": 225,
   "id": "99df4078",
   "metadata": {},
   "outputs": [
    {
     "data": {
      "text/plain": [
       "5    814\n",
       "4    267\n",
       "1    168\n",
       "3    118\n",
       "2     61\n",
       "Name: RATING, dtype: int64"
      ]
     },
     "execution_count": 225,
     "metadata": {},
     "output_type": "execute_result"
    }
   ],
   "source": [
    "df9['RATING'].value_counts()"
   ]
  },
  {
   "cell_type": "code",
   "execution_count": 226,
   "id": "875506c3",
   "metadata": {},
   "outputs": [],
   "source": [
    "dff=df9[df9.RATING=='5']"
   ]
  },
  {
   "cell_type": "code",
   "execution_count": 227,
   "id": "69a93bee",
   "metadata": {},
   "outputs": [],
   "source": [
    "dff=dff.iloc[0:500,:]"
   ]
  },
  {
   "cell_type": "code",
   "execution_count": 228,
   "id": "895b6ded",
   "metadata": {},
   "outputs": [],
   "source": [
    "df9.drop(df9.index[df9['RATING']=='5'], inplace=True)"
   ]
  },
  {
   "cell_type": "code",
   "execution_count": 229,
   "id": "fa617f36",
   "metadata": {},
   "outputs": [],
   "source": [
    "df9=pd.concat([df9,dff],axis=0)"
   ]
  },
  {
   "cell_type": "code",
   "execution_count": 230,
   "id": "a6400f79",
   "metadata": {},
   "outputs": [
    {
     "data": {
      "text/plain": [
       "(1114, 3)"
      ]
     },
     "execution_count": 230,
     "metadata": {},
     "output_type": "execute_result"
    }
   ],
   "source": [
    "df9.shape"
   ]
  },
  {
   "cell_type": "code",
   "execution_count": 231,
   "id": "dcf9a7dc",
   "metadata": {},
   "outputs": [],
   "source": [
    "\n",
    "driver.close()"
   ]
  },
  {
   "cell_type": "markdown",
   "id": "fef7985a",
   "metadata": {},
   "source": [
    "# Compilling data and saving it"
   ]
  },
  {
   "cell_type": "code",
   "execution_count": 232,
   "id": "20e1ae1b",
   "metadata": {},
   "outputs": [],
   "source": [
    "new_df=pd.concat([df,df2,df3,df4,df5,df6,df7,df8,df9],axis=0)"
   ]
  },
  {
   "cell_type": "code",
   "execution_count": 233,
   "id": "9f51eb16",
   "metadata": {},
   "outputs": [
    {
     "data": {
      "text/html": [
       "<div>\n",
       "<style scoped>\n",
       "    .dataframe tbody tr th:only-of-type {\n",
       "        vertical-align: middle;\n",
       "    }\n",
       "\n",
       "    .dataframe tbody tr th {\n",
       "        vertical-align: top;\n",
       "    }\n",
       "\n",
       "    .dataframe thead th {\n",
       "        text-align: right;\n",
       "    }\n",
       "</style>\n",
       "<table border=\"1\" class=\"dataframe\">\n",
       "  <thead>\n",
       "    <tr style=\"text-align: right;\">\n",
       "      <th></th>\n",
       "      <th>RATING</th>\n",
       "      <th>REVIEWS</th>\n",
       "      <th>PRODUCT</th>\n",
       "    </tr>\n",
       "  </thead>\n",
       "  <tbody>\n",
       "    <tr>\n",
       "      <th>1</th>\n",
       "      <td>4</td>\n",
       "      <td>Good mobile poco m3\\nPros:\\nFullhd display,\\ns...</td>\n",
       "      <td>Laptop</td>\n",
       "    </tr>\n",
       "    <tr>\n",
       "      <th>4</th>\n",
       "      <td>4</td>\n",
       "      <td>Sound quality super 3 type sound but camera se...</td>\n",
       "      <td>Laptop</td>\n",
       "    </tr>\n",
       "    <tr>\n",
       "      <th>6</th>\n",
       "      <td>4</td>\n",
       "      <td>1. Phone is perfect but Camera it's not good.\\...</td>\n",
       "      <td>Laptop</td>\n",
       "    </tr>\n",
       "    <tr>\n",
       "      <th>10</th>\n",
       "      <td>4</td>\n",
       "      <td>Good handy phone with decent performance. Good...</td>\n",
       "      <td>Laptop</td>\n",
       "    </tr>\n",
       "    <tr>\n",
       "      <th>12</th>\n",
       "      <td>4</td>\n",
       "      <td>Good product in perfect value of money. I thou...</td>\n",
       "      <td>Laptop</td>\n",
       "    </tr>\n",
       "    <tr>\n",
       "      <th>...</th>\n",
       "      <td>...</td>\n",
       "      <td>...</td>\n",
       "      <td>...</td>\n",
       "    </tr>\n",
       "    <tr>\n",
       "      <th>827</th>\n",
       "      <td>5</td>\n",
       "      <td>I am using it in remote areas with BSNL sim ca...</td>\n",
       "      <td>Router</td>\n",
       "    </tr>\n",
       "    <tr>\n",
       "      <th>830</th>\n",
       "      <td>5</td>\n",
       "      <td>Good\\nUsing Airtel sim network area 4g\\nDownlo...</td>\n",
       "      <td>Router</td>\n",
       "    </tr>\n",
       "    <tr>\n",
       "      <th>832</th>\n",
       "      <td>5</td>\n",
       "      <td>Very nice product</td>\n",
       "      <td>Router</td>\n",
       "    </tr>\n",
       "    <tr>\n",
       "      <th>837</th>\n",
       "      <td>5</td>\n",
       "      <td>This product is perfect. You just need to figu...</td>\n",
       "      <td>Router</td>\n",
       "    </tr>\n",
       "    <tr>\n",
       "      <th>838</th>\n",
       "      <td>5</td>\n",
       "      <td>Super easy to set up even for a non tech perso...</td>\n",
       "      <td>Router</td>\n",
       "    </tr>\n",
       "  </tbody>\n",
       "</table>\n",
       "<p>19088 rows × 3 columns</p>\n",
       "</div>"
      ],
      "text/plain": [
       "    RATING                                            REVIEWS PRODUCT\n",
       "1        4  Good mobile poco m3\\nPros:\\nFullhd display,\\ns...  Laptop\n",
       "4        4  Sound quality super 3 type sound but camera se...  Laptop\n",
       "6        4  1. Phone is perfect but Camera it's not good.\\...  Laptop\n",
       "10       4  Good handy phone with decent performance. Good...  Laptop\n",
       "12       4  Good product in perfect value of money. I thou...  Laptop\n",
       "..     ...                                                ...     ...\n",
       "827      5  I am using it in remote areas with BSNL sim ca...  Router\n",
       "830      5  Good\\nUsing Airtel sim network area 4g\\nDownlo...  Router\n",
       "832      5                                  Very nice product  Router\n",
       "837      5  This product is perfect. You just need to figu...  Router\n",
       "838      5  Super easy to set up even for a non tech perso...  Router\n",
       "\n",
       "[19088 rows x 3 columns]"
      ]
     },
     "execution_count": 233,
     "metadata": {},
     "output_type": "execute_result"
    }
   ],
   "source": [
    "new_df"
   ]
  },
  {
   "cell_type": "code",
   "execution_count": 234,
   "id": "a586b3fb",
   "metadata": {},
   "outputs": [
    {
     "data": {
      "text/plain": [
       "5    8357\n",
       "4    5540\n",
       "1    2358\n",
       "3    1860\n",
       "2     973\n",
       "Name: RATING, dtype: int64"
      ]
     },
     "execution_count": 234,
     "metadata": {},
     "output_type": "execute_result"
    }
   ],
   "source": [
    "new_df['RATING'].value_counts()"
   ]
  },
  {
   "cell_type": "code",
   "execution_count": 235,
   "id": "52681123",
   "metadata": {},
   "outputs": [],
   "source": [
    "df_shuffled=new_df.sample(frac=1).reset_index(drop=True)"
   ]
  },
  {
   "cell_type": "code",
   "execution_count": 236,
   "id": "6cf33034",
   "metadata": {},
   "outputs": [
    {
     "data": {
      "text/html": [
       "<div>\n",
       "<style scoped>\n",
       "    .dataframe tbody tr th:only-of-type {\n",
       "        vertical-align: middle;\n",
       "    }\n",
       "\n",
       "    .dataframe tbody tr th {\n",
       "        vertical-align: top;\n",
       "    }\n",
       "\n",
       "    .dataframe thead th {\n",
       "        text-align: right;\n",
       "    }\n",
       "</style>\n",
       "<table border=\"1\" class=\"dataframe\">\n",
       "  <thead>\n",
       "    <tr style=\"text-align: right;\">\n",
       "      <th></th>\n",
       "      <th>RATING</th>\n",
       "      <th>REVIEWS</th>\n",
       "      <th>PRODUCT</th>\n",
       "    </tr>\n",
       "  </thead>\n",
       "  <tbody>\n",
       "    <tr>\n",
       "      <th>0</th>\n",
       "      <td>1</td>\n",
       "      <td>FM NOT WORKING PROPERLY</td>\n",
       "      <td>Home_theatre</td>\n",
       "    </tr>\n",
       "    <tr>\n",
       "      <th>1</th>\n",
       "      <td>3</td>\n",
       "      <td>Not that good from realme! The left one has mo...</td>\n",
       "      <td>Headphones</td>\n",
       "    </tr>\n",
       "    <tr>\n",
       "      <th>2</th>\n",
       "      <td>5</td>\n",
       "      <td>Very good product</td>\n",
       "      <td>Phones</td>\n",
       "    </tr>\n",
       "    <tr>\n",
       "      <th>3</th>\n",
       "      <td>5</td>\n",
       "      <td>Super Printer, it is worth buying and I got it...</td>\n",
       "      <td>Printers</td>\n",
       "    </tr>\n",
       "    <tr>\n",
       "      <th>4</th>\n",
       "      <td>4</td>\n",
       "      <td>I bought this phone before 2 months. I am writ...</td>\n",
       "      <td>Laptop</td>\n",
       "    </tr>\n",
       "    <tr>\n",
       "      <th>...</th>\n",
       "      <td>...</td>\n",
       "      <td>...</td>\n",
       "      <td>...</td>\n",
       "    </tr>\n",
       "    <tr>\n",
       "      <th>19083</th>\n",
       "      <td>5</td>\n",
       "      <td>Cover almost 4K sqft</td>\n",
       "      <td>Router</td>\n",
       "    </tr>\n",
       "    <tr>\n",
       "      <th>19084</th>\n",
       "      <td>1</td>\n",
       "      <td>Guys plz don't buy this product it's useless i...</td>\n",
       "      <td>Home_theatre</td>\n",
       "    </tr>\n",
       "    <tr>\n",
       "      <th>19085</th>\n",
       "      <td>4</td>\n",
       "      <td>Good Mobile . Battery backup is ok.Camera is A...</td>\n",
       "      <td>Laptop</td>\n",
       "    </tr>\n",
       "    <tr>\n",
       "      <th>19086</th>\n",
       "      <td>5</td>\n",
       "      <td>Received it today....fabulous product from bra...</td>\n",
       "      <td>Printers</td>\n",
       "    </tr>\n",
       "    <tr>\n",
       "      <th>19087</th>\n",
       "      <td>5</td>\n",
       "      <td>Best earphone at this price!!\\nWire quality is...</td>\n",
       "      <td>Headphones</td>\n",
       "    </tr>\n",
       "  </tbody>\n",
       "</table>\n",
       "<p>19088 rows × 3 columns</p>\n",
       "</div>"
      ],
      "text/plain": [
       "      RATING                                            REVIEWS       PRODUCT\n",
       "0          1                            FM NOT WORKING PROPERLY  Home_theatre\n",
       "1          3  Not that good from realme! The left one has mo...    Headphones\n",
       "2          5                                  Very good product        Phones\n",
       "3          5  Super Printer, it is worth buying and I got it...      Printers\n",
       "4          4  I bought this phone before 2 months. I am writ...        Laptop\n",
       "...      ...                                                ...           ...\n",
       "19083      5                               Cover almost 4K sqft        Router\n",
       "19084      1  Guys plz don't buy this product it's useless i...  Home_theatre\n",
       "19085      4  Good Mobile . Battery backup is ok.Camera is A...        Laptop\n",
       "19086      5  Received it today....fabulous product from bra...      Printers\n",
       "19087      5  Best earphone at this price!!\\nWire quality is...    Headphones\n",
       "\n",
       "[19088 rows x 3 columns]"
      ]
     },
     "execution_count": 236,
     "metadata": {},
     "output_type": "execute_result"
    }
   ],
   "source": [
    "df_shuffled"
   ]
  },
  {
   "cell_type": "code",
   "execution_count": 238,
   "id": "0395c411",
   "metadata": {},
   "outputs": [],
   "source": [
    "df_shuffled.to_csv('review.csv')"
   ]
  }
 ],
 "metadata": {
  "kernelspec": {
   "display_name": "Python 3",
   "language": "python",
   "name": "python3"
  },
  "language_info": {
   "codemirror_mode": {
    "name": "ipython",
    "version": 3
   },
   "file_extension": ".py",
   "mimetype": "text/x-python",
   "name": "python",
   "nbconvert_exporter": "python",
   "pygments_lexer": "ipython3",
   "version": "3.8.8"
  }
 },
 "nbformat": 4,
 "nbformat_minor": 5
}
